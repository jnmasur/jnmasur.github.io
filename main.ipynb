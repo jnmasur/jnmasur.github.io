{
 "cells": [
  {
   "cell_type": "markdown",
   "source": [
    "# Internet Access in New Orleans\n",
    "This webpage was created by Jacob Masur and Daniel Cohen to investigate the distribution\n",
    "of internet access in New Orleans across geographic regions. We would like to use geographic\n",
    "data to understand how other factors such as race and income affect who has access to the\n",
    "internet.\n"
   ],
   "metadata": {
    "collapsed": false
   }
  },
  {
   "cell_type": "code",
   "execution_count": null,
   "outputs": [],
   "source": [],
   "metadata": {
    "collapsed": false,
    "pycharm": {
     "name": "#%%\n"
    }
   }
  }
 ],
 "metadata": {
  "kernelspec": {
   "display_name": "Python 3",
   "language": "python",
   "name": "python3"
  },
  "language_info": {
   "codemirror_mode": {
    "name": "ipython",
    "version": 2
   },
   "file_extension": ".py",
   "mimetype": "text/x-python",
   "name": "python",
   "nbconvert_exporter": "python",
   "pygments_lexer": "ipython2",
   "version": "2.7.6"
  }
 },
 "nbformat": 4,
 "nbformat_minor": 0
}