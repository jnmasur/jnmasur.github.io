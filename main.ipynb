{
 "cells": [
  {
   "cell_type": "markdown",
   "metadata": {},
   "source": [
    "Jacob Masur and Daniel Cohen\n",
    "\n",
    "Internet Access in Orleans Parish\n",
    "===========================\n",
    "\n",
    "## Introduction\n",
    "\n",
    "This webpage \\([https://jnmasur.github.io/index.html](https://jnmasur.github.io/index.html)\\) was created by Jacob Masur and Daniel Cohen to investigate the distribution of internet access in Orleans Parish across geographic regions. This is extremely important to consider in our modern computer-based society in which increasingly many common resources and tasks are placed online. This is especially relevant in the time of a global pandemic where, in the name of safety, many workplaces and schools have converted to strictly virtual environments. In addition, many vital resources are now most easily accessed through the internet such as [FEMA assistance for Hurricane Ida](https://www.fema.gov/disaster/hurricane-ida).\n",
    "\n",
    "Increased virtualization can be beneficial as it provides safer and more convenient access to necessary resources, but access to internet requires owning some device that can connect to the internet and payment for an internet service plan. The cost of paying for internet access can be extremely burdensome for families whose children must complete many homework assignments and even full school days strictly online. This poses a massive risk of strengthening the [cycle of poverty](https://www.worldvision.ca/stories/child-sponsorship/what-is-the-cycle-of-poverty) where children born in poor families lacking internet access [struggle more than other students in school](https://www.pewtrusts.org/en/trust/archive/summer-2019/americas-digital-divide) due to lack of internet access and then [struggle to make sufficient money later in life](https://www.bls.gov/emp/chart-unemployment-earnings-education.htm) to pay for internet access for their children. In addition, this could increase the extremely harmful effects of [systemic racism](https://www.vox.com/2020/6/17/21284527/systemic-racism-black-americans-9-charts-explained) which has already placed black Americans and other minorities at an extreme disadvantage financially and in other ways.\n",
    "\n",
    "Given the clear issues caused by lack of internet access, in our project, our primary goal is to answer the questions:\n",
    "1. **How accessible is internet to residents of Orleans Parish in their homes?**\n",
    "2. **Are public internet access points distributed in a manner that optimizes access to those who lack access in their homes?**\n",
    "\n",
    "Our secondary goals are to confirm the factors we believe will most strongly impact access to internet in New Orleans:\n",
    "- Income level\n",
    "- Race\n",
    "- Level of education\n",
    "\n",
    "We will investigate these problems by looking at the geographic distribution of internet access by census tract and the distribution of locations for free publicly accessible internet access \\(for example, public libraries\\) in Orleans Parish. Additionally, we will investigate correlations between wifi access and demographic information such as income level, educational attainment, and ethnicity. We predict that income level will have a significant impact on access to internet. In general, people with higher level of eduction also make more money, and since [income is inequally distributed amongst different races](https://www.federalreserve.gov/econres/notes/feds-notes/disparities-in-wealth-by-race-and-ethnicity-in-the-2019-survey-of-consumer-finances-20200928.htm), there will likely be a dependence on educational attainment and race. Moreover, since wealthier areas pay higher taxes and usually [have better public infrastructure](https://www.brookings.edu/blog/the-avenue/2018/05/09/can-people-afford-american-infrastructure/), we predict that free internet access points will be located in areas in which most people already have access to internet."
   ]
  },
  {
   "cell_type": "markdown",
   "metadata": {},
   "source": [
    "### Installs and Imports\n",
    "\n",
    "Here we simply install and import the necessary libraries and functions that we will use for our investigation."
   ]
  },
  {
   "cell_type": "code",
   "execution_count": null,
   "metadata": {},
   "outputs": [],
   "source": [
    "!pip3 install pandas\n",
    "!pip3 install numpy\n",
    "!pip3 install scipy\n",
    "!pip3 install matplotlib\n",
    "!pip3 install sklearn\n",
    "!pip3 install geopandas\n",
    "!pip3 install shapely\n",
    "!pip3 install rtree"
   ]
  },
  {
   "cell_type": "code",
   "execution_count": 200,
   "metadata": {},
   "outputs": [],
   "source": [
    "# useful libraries\n",
    "import pandas as pd\n",
    "import numpy as np\n",
    "from matplotlib import pyplot as plt\n",
    "import matplotlib.colors as colors\n",
    "import matplotlib.patches as patches\n",
    "from sklearn.metrics import pairwise_distances\n",
    "from scipy.stats import linregress\n",
    "import geopandas as gpd\n",
    "from shapely.geometry import Point, Polygon, MultiPolygon\n",
    "from shapely import wkt\n",
    "import rtree"
   ]
  },
  {
   "cell_type": "markdown",
   "metadata": {},
   "source": [
    "## Data Overview\n",
    "\n",
    "For our investigation, we will be using seven distinct data sets. The first one contains census tract level information reagrding the type and precense of internet and computers by household for census tracts across the entire country and is provided by [NHGIS](https://www.nhgis.org/). We also obtained 3 other data sets from NHGIS, one providing the racial makeup by census tract, one detailing educational attainment for people 25 years of age or older by census tract, and one containing the median household income also by census tract. The final data set sourced via NHGIS is the data set that provides the population of each census tract. All aforementioned data is the result of the [American Community Survey](https://www.census.gov/data/developers/data-sets/acs-5year.html) which is conducted by the Census Bureau and is therefore a trustworthy source. All datasets sourced from NHGIS contain country-wide data, and most contain many variables that are irrelevant to our discussion, so cleaning these sets is essential. The sixth data set contains geographic information for locations with free publicly accessible internet in Orleans Parish. This data comes from the [official New Orleans Database](https://data.nola.gov/) which is also a very trustworthy source. The final data set is directly sourced from the [US Census Bureau](https://www.census.gov/geographies/mapping-files/time-series/geo/tiger-line-file.html) and contains shape files for Louisiana census tracts necessary for performing geographic plotting. All data sets come from official government sources, so we believe that this data is accurate and will provide a good representation of internet access by race, income, and educational attainment."
   ]
  },
  {
   "cell_type": "markdown",
   "metadata": {},
   "source": [
    "## NHGIS Internet Data\n",
    "\n",
    "The first data sets we will consider is sourced from NHGIS, it contains census tract data on the type of computers and the precense and types of internet subscriptions in households for the entire country. This data frame is therefore extremely large."
   ]
  },
  {
   "cell_type": "code",
   "execution_count": 94,
   "metadata": {
    "pycharm": {
     "name": "#%%\n"
    }
   },
   "outputs": [
    {
     "data": {
      "text/html": [
       "<div>\n",
       "<style scoped>\n",
       "    .dataframe tbody tr th:only-of-type {\n",
       "        vertical-align: middle;\n",
       "    }\n",
       "\n",
       "    .dataframe tbody tr th {\n",
       "        vertical-align: top;\n",
       "    }\n",
       "\n",
       "    .dataframe thead th {\n",
       "        text-align: right;\n",
       "    }\n",
       "</style>\n",
       "<table border=\"1\" class=\"dataframe\">\n",
       "  <thead>\n",
       "    <tr style=\"text-align: right;\">\n",
       "      <th></th>\n",
       "      <th>GISJOIN</th>\n",
       "      <th>YEAR</th>\n",
       "      <th>REGIONA</th>\n",
       "      <th>DIVISIONA</th>\n",
       "      <th>STATE</th>\n",
       "      <th>STATEA</th>\n",
       "      <th>COUNTY</th>\n",
       "      <th>COUNTYA</th>\n",
       "      <th>COUSUBA</th>\n",
       "      <th>PLACEA</th>\n",
       "      <th>...</th>\n",
       "      <th>AIQBM004</th>\n",
       "      <th>AIQBM005</th>\n",
       "      <th>AIQBM006</th>\n",
       "      <th>AIQBM007</th>\n",
       "      <th>AIQBM008</th>\n",
       "      <th>AIQBM009</th>\n",
       "      <th>AIQBM010</th>\n",
       "      <th>AIQBM011</th>\n",
       "      <th>AIQBM012</th>\n",
       "      <th>AIQBM013</th>\n",
       "    </tr>\n",
       "  </thead>\n",
       "  <tbody>\n",
       "    <tr>\n",
       "      <th>0</th>\n",
       "      <td>G0100010020100</td>\n",
       "      <td>2013-2017</td>\n",
       "      <td>NaN</td>\n",
       "      <td>NaN</td>\n",
       "      <td>Alabama</td>\n",
       "      <td>1</td>\n",
       "      <td>Autauga County</td>\n",
       "      <td>1</td>\n",
       "      <td>NaN</td>\n",
       "      <td>NaN</td>\n",
       "      <td>...</td>\n",
       "      <td>71</td>\n",
       "      <td>69</td>\n",
       "      <td>36</td>\n",
       "      <td>75</td>\n",
       "      <td>61</td>\n",
       "      <td>30</td>\n",
       "      <td>8</td>\n",
       "      <td>11</td>\n",
       "      <td>8</td>\n",
       "      <td>50</td>\n",
       "    </tr>\n",
       "    <tr>\n",
       "      <th>1</th>\n",
       "      <td>G0100010020200</td>\n",
       "      <td>2013-2017</td>\n",
       "      <td>NaN</td>\n",
       "      <td>NaN</td>\n",
       "      <td>Alabama</td>\n",
       "      <td>1</td>\n",
       "      <td>Autauga County</td>\n",
       "      <td>1</td>\n",
       "      <td>NaN</td>\n",
       "      <td>NaN</td>\n",
       "      <td>...</td>\n",
       "      <td>85</td>\n",
       "      <td>80</td>\n",
       "      <td>52</td>\n",
       "      <td>85</td>\n",
       "      <td>51</td>\n",
       "      <td>20</td>\n",
       "      <td>10</td>\n",
       "      <td>11</td>\n",
       "      <td>24</td>\n",
       "      <td>82</td>\n",
       "    </tr>\n",
       "    <tr>\n",
       "      <th>2</th>\n",
       "      <td>G0100010020300</td>\n",
       "      <td>2013-2017</td>\n",
       "      <td>NaN</td>\n",
       "      <td>NaN</td>\n",
       "      <td>Alabama</td>\n",
       "      <td>1</td>\n",
       "      <td>Autauga County</td>\n",
       "      <td>1</td>\n",
       "      <td>NaN</td>\n",
       "      <td>NaN</td>\n",
       "      <td>...</td>\n",
       "      <td>129</td>\n",
       "      <td>107</td>\n",
       "      <td>81</td>\n",
       "      <td>129</td>\n",
       "      <td>86</td>\n",
       "      <td>57</td>\n",
       "      <td>17</td>\n",
       "      <td>11</td>\n",
       "      <td>14</td>\n",
       "      <td>108</td>\n",
       "    </tr>\n",
       "    <tr>\n",
       "      <th>3</th>\n",
       "      <td>G0100010020400</td>\n",
       "      <td>2013-2017</td>\n",
       "      <td>NaN</td>\n",
       "      <td>NaN</td>\n",
       "      <td>Alabama</td>\n",
       "      <td>1</td>\n",
       "      <td>Autauga County</td>\n",
       "      <td>1</td>\n",
       "      <td>NaN</td>\n",
       "      <td>NaN</td>\n",
       "      <td>...</td>\n",
       "      <td>160</td>\n",
       "      <td>142</td>\n",
       "      <td>78</td>\n",
       "      <td>158</td>\n",
       "      <td>107</td>\n",
       "      <td>61</td>\n",
       "      <td>11</td>\n",
       "      <td>11</td>\n",
       "      <td>25</td>\n",
       "      <td>126</td>\n",
       "    </tr>\n",
       "    <tr>\n",
       "      <th>4</th>\n",
       "      <td>G0100010020500</td>\n",
       "      <td>2013-2017</td>\n",
       "      <td>NaN</td>\n",
       "      <td>NaN</td>\n",
       "      <td>Alabama</td>\n",
       "      <td>1</td>\n",
       "      <td>Autauga County</td>\n",
       "      <td>1</td>\n",
       "      <td>NaN</td>\n",
       "      <td>NaN</td>\n",
       "      <td>...</td>\n",
       "      <td>372</td>\n",
       "      <td>362</td>\n",
       "      <td>174</td>\n",
       "      <td>434</td>\n",
       "      <td>200</td>\n",
       "      <td>92</td>\n",
       "      <td>45</td>\n",
       "      <td>16</td>\n",
       "      <td>148</td>\n",
       "      <td>183</td>\n",
       "    </tr>\n",
       "  </tbody>\n",
       "</table>\n",
       "<p>5 rows × 84 columns</p>\n",
       "</div>"
      ],
      "text/plain": [
       "          GISJOIN       YEAR  REGIONA  DIVISIONA    STATE  STATEA  \\\n",
       "0  G0100010020100  2013-2017      NaN        NaN  Alabama       1   \n",
       "1  G0100010020200  2013-2017      NaN        NaN  Alabama       1   \n",
       "2  G0100010020300  2013-2017      NaN        NaN  Alabama       1   \n",
       "3  G0100010020400  2013-2017      NaN        NaN  Alabama       1   \n",
       "4  G0100010020500  2013-2017      NaN        NaN  Alabama       1   \n",
       "\n",
       "           COUNTY  COUNTYA  COUSUBA  PLACEA  ...  AIQBM004  AIQBM005  \\\n",
       "0  Autauga County        1      NaN     NaN  ...        71        69   \n",
       "1  Autauga County        1      NaN     NaN  ...        85        80   \n",
       "2  Autauga County        1      NaN     NaN  ...       129       107   \n",
       "3  Autauga County        1      NaN     NaN  ...       160       142   \n",
       "4  Autauga County        1      NaN     NaN  ...       372       362   \n",
       "\n",
       "   AIQBM006  AIQBM007  AIQBM008  AIQBM009  AIQBM010  AIQBM011  AIQBM012  \\\n",
       "0        36        75        61        30         8        11         8   \n",
       "1        52        85        51        20        10        11        24   \n",
       "2        81       129        86        57        17        11        14   \n",
       "3        78       158       107        61        11        11        25   \n",
       "4       174       434       200        92        45        16       148   \n",
       "\n",
       "   AIQBM013  \n",
       "0        50  \n",
       "1        82  \n",
       "2       108  \n",
       "3       126  \n",
       "4       183  \n",
       "\n",
       "[5 rows x 84 columns]"
      ]
     },
     "execution_count": 94,
     "metadata": {},
     "output_type": "execute_result"
    }
   ],
   "source": [
    "# load the internet access data set\n",
    "internet = pd.read_csv(\"./data/internet_data.csv\")\n",
    "internet.head()"
   ]
  },
  {
   "cell_type": "markdown",
   "metadata": {},
   "source": [
    "Source:  \n",
    "Steven Manson, Jonathan Schroeder, David Van Riper, Tracy Kugler, and Steven Ruggles.  \n",
    "IPUMS National Historical Geographic Information System: Version 16.0  \n",
    "2017 American Community Survey: 5-Year Data \\[2013-2017, Tracts & Larger Areas\\]. Minneapolis, MN: IPUMS. 2021.  \n",
    "[http://doi.org/10.18128/D050.V16.0](http://doi.org/10.18128/D050.V16.0)"
   ]
  },
  {
   "cell_type": "markdown",
   "metadata": {},
   "source": [
    "### Cleaning the Data Set"
   ]
  },
  {
   "cell_type": "markdown",
   "metadata": {},
   "source": [
    "The data set at this point contains a lot of data that is irrelevant to our investigation; we will therefore need to clean the data set, so that it becomes usable. Since we are only interested in Orleans Parish data, we filter the dataset accordingly."
   ]
  },
  {
   "cell_type": "code",
   "execution_count": 95,
   "metadata": {
    "pycharm": {
     "name": "#%%\n"
    }
   },
   "outputs": [
    {
     "data": {
      "text/html": [
       "<div>\n",
       "<style scoped>\n",
       "    .dataframe tbody tr th:only-of-type {\n",
       "        vertical-align: middle;\n",
       "    }\n",
       "\n",
       "    .dataframe tbody tr th {\n",
       "        vertical-align: top;\n",
       "    }\n",
       "\n",
       "    .dataframe thead th {\n",
       "        text-align: right;\n",
       "    }\n",
       "</style>\n",
       "<table border=\"1\" class=\"dataframe\">\n",
       "  <thead>\n",
       "    <tr style=\"text-align: right;\">\n",
       "      <th></th>\n",
       "      <th>GISJOIN</th>\n",
       "      <th>YEAR</th>\n",
       "      <th>REGIONA</th>\n",
       "      <th>DIVISIONA</th>\n",
       "      <th>STATE</th>\n",
       "      <th>STATEA</th>\n",
       "      <th>COUNTY</th>\n",
       "      <th>COUNTYA</th>\n",
       "      <th>COUSUBA</th>\n",
       "      <th>PLACEA</th>\n",
       "      <th>...</th>\n",
       "      <th>AIQBM004</th>\n",
       "      <th>AIQBM005</th>\n",
       "      <th>AIQBM006</th>\n",
       "      <th>AIQBM007</th>\n",
       "      <th>AIQBM008</th>\n",
       "      <th>AIQBM009</th>\n",
       "      <th>AIQBM010</th>\n",
       "      <th>AIQBM011</th>\n",
       "      <th>AIQBM012</th>\n",
       "      <th>AIQBM013</th>\n",
       "    </tr>\n",
       "  </thead>\n",
       "  <tbody>\n",
       "    <tr>\n",
       "      <th>28917</th>\n",
       "      <td>G2200710000100</td>\n",
       "      <td>2013-2017</td>\n",
       "      <td>NaN</td>\n",
       "      <td>NaN</td>\n",
       "      <td>Louisiana</td>\n",
       "      <td>22</td>\n",
       "      <td>Orleans Parish</td>\n",
       "      <td>71</td>\n",
       "      <td>NaN</td>\n",
       "      <td>NaN</td>\n",
       "      <td>...</td>\n",
       "      <td>155</td>\n",
       "      <td>144</td>\n",
       "      <td>75</td>\n",
       "      <td>145</td>\n",
       "      <td>129</td>\n",
       "      <td>79</td>\n",
       "      <td>12</td>\n",
       "      <td>12</td>\n",
       "      <td>34</td>\n",
       "      <td>87</td>\n",
       "    </tr>\n",
       "    <tr>\n",
       "      <th>28918</th>\n",
       "      <td>G2200710000200</td>\n",
       "      <td>2013-2017</td>\n",
       "      <td>NaN</td>\n",
       "      <td>NaN</td>\n",
       "      <td>Louisiana</td>\n",
       "      <td>22</td>\n",
       "      <td>Orleans Parish</td>\n",
       "      <td>71</td>\n",
       "      <td>NaN</td>\n",
       "      <td>NaN</td>\n",
       "      <td>...</td>\n",
       "      <td>79</td>\n",
       "      <td>42</td>\n",
       "      <td>11</td>\n",
       "      <td>79</td>\n",
       "      <td>72</td>\n",
       "      <td>6</td>\n",
       "      <td>12</td>\n",
       "      <td>12</td>\n",
       "      <td>45</td>\n",
       "      <td>47</td>\n",
       "    </tr>\n",
       "    <tr>\n",
       "      <th>28919</th>\n",
       "      <td>G2200710000300</td>\n",
       "      <td>2013-2017</td>\n",
       "      <td>NaN</td>\n",
       "      <td>NaN</td>\n",
       "      <td>Louisiana</td>\n",
       "      <td>22</td>\n",
       "      <td>Orleans Parish</td>\n",
       "      <td>71</td>\n",
       "      <td>NaN</td>\n",
       "      <td>NaN</td>\n",
       "      <td>...</td>\n",
       "      <td>56</td>\n",
       "      <td>51</td>\n",
       "      <td>41</td>\n",
       "      <td>46</td>\n",
       "      <td>33</td>\n",
       "      <td>15</td>\n",
       "      <td>9</td>\n",
       "      <td>12</td>\n",
       "      <td>10</td>\n",
       "      <td>68</td>\n",
       "    </tr>\n",
       "    <tr>\n",
       "      <th>28920</th>\n",
       "      <td>G2200710000400</td>\n",
       "      <td>2013-2017</td>\n",
       "      <td>NaN</td>\n",
       "      <td>NaN</td>\n",
       "      <td>Louisiana</td>\n",
       "      <td>22</td>\n",
       "      <td>Orleans Parish</td>\n",
       "      <td>71</td>\n",
       "      <td>NaN</td>\n",
       "      <td>NaN</td>\n",
       "      <td>...</td>\n",
       "      <td>80</td>\n",
       "      <td>61</td>\n",
       "      <td>43</td>\n",
       "      <td>62</td>\n",
       "      <td>61</td>\n",
       "      <td>34</td>\n",
       "      <td>29</td>\n",
       "      <td>12</td>\n",
       "      <td>38</td>\n",
       "      <td>84</td>\n",
       "    </tr>\n",
       "    <tr>\n",
       "      <th>28921</th>\n",
       "      <td>G2200710000601</td>\n",
       "      <td>2013-2017</td>\n",
       "      <td>NaN</td>\n",
       "      <td>NaN</td>\n",
       "      <td>Louisiana</td>\n",
       "      <td>22</td>\n",
       "      <td>Orleans Parish</td>\n",
       "      <td>71</td>\n",
       "      <td>NaN</td>\n",
       "      <td>NaN</td>\n",
       "      <td>...</td>\n",
       "      <td>43</td>\n",
       "      <td>34</td>\n",
       "      <td>9</td>\n",
       "      <td>43</td>\n",
       "      <td>31</td>\n",
       "      <td>7</td>\n",
       "      <td>12</td>\n",
       "      <td>12</td>\n",
       "      <td>14</td>\n",
       "      <td>71</td>\n",
       "    </tr>\n",
       "  </tbody>\n",
       "</table>\n",
       "<p>5 rows × 84 columns</p>\n",
       "</div>"
      ],
      "text/plain": [
       "              GISJOIN       YEAR  REGIONA  DIVISIONA      STATE  STATEA  \\\n",
       "28917  G2200710000100  2013-2017      NaN        NaN  Louisiana      22   \n",
       "28918  G2200710000200  2013-2017      NaN        NaN  Louisiana      22   \n",
       "28919  G2200710000300  2013-2017      NaN        NaN  Louisiana      22   \n",
       "28920  G2200710000400  2013-2017      NaN        NaN  Louisiana      22   \n",
       "28921  G2200710000601  2013-2017      NaN        NaN  Louisiana      22   \n",
       "\n",
       "               COUNTY  COUNTYA  COUSUBA  PLACEA  ...  AIQBM004  AIQBM005  \\\n",
       "28917  Orleans Parish       71      NaN     NaN  ...       155       144   \n",
       "28918  Orleans Parish       71      NaN     NaN  ...        79        42   \n",
       "28919  Orleans Parish       71      NaN     NaN  ...        56        51   \n",
       "28920  Orleans Parish       71      NaN     NaN  ...        80        61   \n",
       "28921  Orleans Parish       71      NaN     NaN  ...        43        34   \n",
       "\n",
       "       AIQBM006  AIQBM007  AIQBM008  AIQBM009  AIQBM010  AIQBM011  AIQBM012  \\\n",
       "28917        75       145       129        79        12        12        34   \n",
       "28918        11        79        72         6        12        12        45   \n",
       "28919        41        46        33        15         9        12        10   \n",
       "28920        43        62        61        34        29        12        38   \n",
       "28921         9        43        31         7        12        12        14   \n",
       "\n",
       "       AIQBM013  \n",
       "28917        87  \n",
       "28918        47  \n",
       "28919        68  \n",
       "28920        84  \n",
       "28921        71  \n",
       "\n",
       "[5 rows x 84 columns]"
      ]
     },
     "execution_count": 95,
     "metadata": {},
     "output_type": "execute_result"
    }
   ],
   "source": [
    "internet = internet[(internet[\"STATE\"] == \"Louisiana\") & (internet[\"COUNTY\"] == \"Orleans Parish\")]\n",
    "internet.head()"
   ]
  },
  {
   "cell_type": "markdown",
   "metadata": {},
   "source": [
    "There is still much extraneous data contained in this table, and we certainly will not be able to investigate 84 variables. In the next cell, we reduce our consideration to 3 variables: the census tract, the total households surveyed, the number of households without internet access."
   ]
  },
  {
   "cell_type": "code",
   "execution_count": 96,
   "metadata": {},
   "outputs": [],
   "source": [
    "df_internet = internet[[\"TRACTA\", \"AIQAE001\", \"AIQBE013\"]]"
   ]
  },
  {
   "cell_type": "markdown",
   "metadata": {},
   "source": [
    "The definition of these columns can be found in the data folder on our github. Here we rename the columns according to their definitions, so the column labels provide useful information."
   ]
  },
  {
   "cell_type": "code",
   "execution_count": 97,
   "metadata": {},
   "outputs": [],
   "source": [
    "df_internet = df_internet.rename(columns={\"TRACTA\": \"Census Tract\", \"AIQAE001\":\"Total\", \"AIQBE013\":\"No Internet\"})"
   ]
  },
  {
   "cell_type": "markdown",
   "metadata": {},
   "source": [
    "For future analysis, it is also useful to have the number of households with internet access, so we calculate this by subtracting the number of households without internet access from the number of households with internet access."
   ]
  },
  {
   "cell_type": "code",
   "execution_count": 98,
   "metadata": {},
   "outputs": [],
   "source": [
    "df_internet[\"Has Internet\"] = df_internet[\"Total\"] - df_internet[\"No Internet\"]"
   ]
  },
  {
   "cell_type": "markdown",
   "metadata": {},
   "source": [
    "Now, since each observation in the data frame is a census tract, this value is unique, and works well as an index."
   ]
  },
  {
   "cell_type": "code",
   "execution_count": 99,
   "metadata": {},
   "outputs": [],
   "source": [
    "df_internet.set_index(\"Census Tract\", inplace=True)"
   ]
  },
  {
   "cell_type": "markdown",
   "metadata": {},
   "source": [
    "Some census tracts contain no data, we would like to remove these so we filter out any row in which the total households surveyed is 0."
   ]
  },
  {
   "cell_type": "code",
   "execution_count": 100,
   "metadata": {},
   "outputs": [],
   "source": [
    "df_internet = df_internet[df_internet[\"Total\"] > 0]"
   ]
  },
  {
   "cell_type": "code",
   "execution_count": 101,
   "metadata": {},
   "outputs": [
    {
     "data": {
      "text/html": [
       "<div>\n",
       "<style scoped>\n",
       "    .dataframe tbody tr th:only-of-type {\n",
       "        vertical-align: middle;\n",
       "    }\n",
       "\n",
       "    .dataframe tbody tr th {\n",
       "        vertical-align: top;\n",
       "    }\n",
       "\n",
       "    .dataframe thead th {\n",
       "        text-align: right;\n",
       "    }\n",
       "</style>\n",
       "<table border=\"1\" class=\"dataframe\">\n",
       "  <thead>\n",
       "    <tr style=\"text-align: right;\">\n",
       "      <th></th>\n",
       "      <th>Total</th>\n",
       "      <th>No Internet</th>\n",
       "      <th>Has Internet</th>\n",
       "    </tr>\n",
       "    <tr>\n",
       "      <th>Census Tract</th>\n",
       "      <th></th>\n",
       "      <th></th>\n",
       "      <th></th>\n",
       "    </tr>\n",
       "  </thead>\n",
       "  <tbody>\n",
       "    <tr>\n",
       "      <th>100</th>\n",
       "      <td>1404</td>\n",
       "      <td>204</td>\n",
       "      <td>1200</td>\n",
       "    </tr>\n",
       "    <tr>\n",
       "      <th>200</th>\n",
       "      <td>487</td>\n",
       "      <td>192</td>\n",
       "      <td>295</td>\n",
       "    </tr>\n",
       "    <tr>\n",
       "      <th>300</th>\n",
       "      <td>525</td>\n",
       "      <td>315</td>\n",
       "      <td>210</td>\n",
       "    </tr>\n",
       "    <tr>\n",
       "      <th>400</th>\n",
       "      <td>854</td>\n",
       "      <td>408</td>\n",
       "      <td>446</td>\n",
       "    </tr>\n",
       "    <tr>\n",
       "      <th>601</th>\n",
       "      <td>384</td>\n",
       "      <td>305</td>\n",
       "      <td>79</td>\n",
       "    </tr>\n",
       "  </tbody>\n",
       "</table>\n",
       "</div>"
      ],
      "text/plain": [
       "              Total  No Internet  Has Internet\n",
       "Census Tract                                  \n",
       "100            1404          204          1200\n",
       "200             487          192           295\n",
       "300             525          315           210\n",
       "400             854          408           446\n",
       "601             384          305            79"
      ]
     },
     "execution_count": 101,
     "metadata": {},
     "output_type": "execute_result"
    }
   ],
   "source": [
    "df_internet.head()"
   ]
  },
  {
   "cell_type": "markdown",
   "metadata": {},
   "source": [
    "At this point, data across census tracts is difficult to compare since the total households vary significantly. Therefore, we find the proportion of households with the property described by each variable."
   ]
  },
  {
   "cell_type": "code",
   "execution_count": 102,
   "metadata": {},
   "outputs": [
    {
     "data": {
      "text/html": [
       "<div>\n",
       "<style scoped>\n",
       "    .dataframe tbody tr th:only-of-type {\n",
       "        vertical-align: middle;\n",
       "    }\n",
       "\n",
       "    .dataframe tbody tr th {\n",
       "        vertical-align: top;\n",
       "    }\n",
       "\n",
       "    .dataframe thead th {\n",
       "        text-align: right;\n",
       "    }\n",
       "</style>\n",
       "<table border=\"1\" class=\"dataframe\">\n",
       "  <thead>\n",
       "    <tr style=\"text-align: right;\">\n",
       "      <th></th>\n",
       "      <th>No Internet</th>\n",
       "      <th>Has Internet</th>\n",
       "    </tr>\n",
       "    <tr>\n",
       "      <th>Census Tract</th>\n",
       "      <th></th>\n",
       "      <th></th>\n",
       "    </tr>\n",
       "  </thead>\n",
       "  <tbody>\n",
       "    <tr>\n",
       "      <th>100</th>\n",
       "      <td>0.145299</td>\n",
       "      <td>0.854701</td>\n",
       "    </tr>\n",
       "    <tr>\n",
       "      <th>200</th>\n",
       "      <td>0.394251</td>\n",
       "      <td>0.605749</td>\n",
       "    </tr>\n",
       "    <tr>\n",
       "      <th>300</th>\n",
       "      <td>0.600000</td>\n",
       "      <td>0.400000</td>\n",
       "    </tr>\n",
       "    <tr>\n",
       "      <th>400</th>\n",
       "      <td>0.477752</td>\n",
       "      <td>0.522248</td>\n",
       "    </tr>\n",
       "    <tr>\n",
       "      <th>601</th>\n",
       "      <td>0.794271</td>\n",
       "      <td>0.205729</td>\n",
       "    </tr>\n",
       "  </tbody>\n",
       "</table>\n",
       "</div>"
      ],
      "text/plain": [
       "              No Internet  Has Internet\n",
       "Census Tract                           \n",
       "100              0.145299      0.854701\n",
       "200              0.394251      0.605749\n",
       "300              0.600000      0.400000\n",
       "400              0.477752      0.522248\n",
       "601              0.794271      0.205729"
      ]
     },
     "execution_count": 102,
     "metadata": {},
     "output_type": "execute_result"
    }
   ],
   "source": [
    "internet_proportions = df_internet.drop(columns=[\"Total\"]).divide(df_internet[\"Total\"], axis=0)\n",
    "internet_proportions.head()"
   ]
  },
  {
   "cell_type": "markdown",
   "metadata": {},
   "source": [
    "## Publicly Accessible Internet\n",
    "There are some locations throughout Orleans Parish that provide free access to internet for the public. It will be interesting to investigate the location of these relative to census tracts, especially those in which a small proportion of the population has access to the internet."
   ]
  },
  {
   "cell_type": "code",
   "execution_count": 103,
   "metadata": {},
   "outputs": [],
   "source": [
    "free = pd.read_csv(\"./data/ComputerResources_data.csv\")"
   ]
  },
  {
   "cell_type": "code",
   "execution_count": 104,
   "metadata": {},
   "outputs": [
    {
     "data": {
      "text/html": [
       "<div>\n",
       "<style scoped>\n",
       "    .dataframe tbody tr th:only-of-type {\n",
       "        vertical-align: middle;\n",
       "    }\n",
       "\n",
       "    .dataframe tbody tr th {\n",
       "        vertical-align: top;\n",
       "    }\n",
       "\n",
       "    .dataframe thead th {\n",
       "        text-align: right;\n",
       "    }\n",
       "</style>\n",
       "<table border=\"1\" class=\"dataframe\">\n",
       "  <thead>\n",
       "    <tr style=\"text-align: right;\">\n",
       "      <th></th>\n",
       "      <th>the_geom</th>\n",
       "      <th>ObjectID</th>\n",
       "      <th>Location</th>\n",
       "      <th>Address</th>\n",
       "      <th>Zip Code</th>\n",
       "      <th>Phone</th>\n",
       "      <th>Hours</th>\n",
       "      <th>Sunday Hours</th>\n",
       "      <th>Computers</th>\n",
       "      <th>Kids PC Area</th>\n",
       "      <th>...</th>\n",
       "      <th>WiFi</th>\n",
       "      <th>Printing</th>\n",
       "      <th>Support Available</th>\n",
       "      <th>Support Type</th>\n",
       "      <th>Restrictions</th>\n",
       "      <th>Device Rental Program</th>\n",
       "      <th>Device Rental Type</th>\n",
       "      <th>Device Rental Requirements</th>\n",
       "      <th>Device Rental Restrictions</th>\n",
       "      <th>Classes Available</th>\n",
       "    </tr>\n",
       "  </thead>\n",
       "  <tbody>\n",
       "    <tr>\n",
       "      <th>0</th>\n",
       "      <td>POINT (-90.101872057386 29.97491327785)</td>\n",
       "      <td>7</td>\n",
       "      <td>Mid-City Branch</td>\n",
       "      <td>4140 Canal Street</td>\n",
       "      <td>70119</td>\n",
       "      <td>(504) 596-2654</td>\n",
       "      <td>10 a.m. - 8 p.m., Mon.- Thurs.\\n10 a.m. - 5 p....</td>\n",
       "      <td>No</td>\n",
       "      <td>12.0</td>\n",
       "      <td>No</td>\n",
       "      <td>...</td>\n",
       "      <td>Yes</td>\n",
       "      <td>Yes</td>\n",
       "      <td>Yes</td>\n",
       "      <td>Limited</td>\n",
       "      <td>NaN</td>\n",
       "      <td>Yes</td>\n",
       "      <td>iPad</td>\n",
       "      <td>18+</td>\n",
       "      <td>In-House Only</td>\n",
       "      <td>None</td>\n",
       "    </tr>\n",
       "    <tr>\n",
       "      <th>1</th>\n",
       "      <td>POINT (-90.013800108486 29.966383690636)</td>\n",
       "      <td>6</td>\n",
       "      <td>Martin Luther King Branch</td>\n",
       "      <td>1611 Caffin Avenue</td>\n",
       "      <td>70117</td>\n",
       "      <td>(504) 596-2695</td>\n",
       "      <td>10 a.m. - 8 p.m., Mon. - Thurs.\\n10 a.m. - 5 p...</td>\n",
       "      <td>No</td>\n",
       "      <td>12.0</td>\n",
       "      <td>No</td>\n",
       "      <td>...</td>\n",
       "      <td>Yes</td>\n",
       "      <td>Yes</td>\n",
       "      <td>Yes</td>\n",
       "      <td>Partial</td>\n",
       "      <td>NaN</td>\n",
       "      <td>Yes</td>\n",
       "      <td>iPad</td>\n",
       "      <td>18+</td>\n",
       "      <td>In-House Only</td>\n",
       "      <td>Basic Computing</td>\n",
       "    </tr>\n",
       "    <tr>\n",
       "      <th>2</th>\n",
       "      <td>POINT (-90.013637780585 29.922729858452)</td>\n",
       "      <td>9</td>\n",
       "      <td>Algiers Regional Branch</td>\n",
       "      <td>3014 Holiday Drive</td>\n",
       "      <td>70131</td>\n",
       "      <td>(504) 596-2641</td>\n",
       "      <td>10 a.m. - 8 p.m., Mon.- Thurs.\\n10 a.m. - 5 p....</td>\n",
       "      <td>Yes</td>\n",
       "      <td>46.0</td>\n",
       "      <td>Yes</td>\n",
       "      <td>...</td>\n",
       "      <td>Yes</td>\n",
       "      <td>Yes</td>\n",
       "      <td>Yes</td>\n",
       "      <td>Full-Time</td>\n",
       "      <td>NaN</td>\n",
       "      <td>Yes</td>\n",
       "      <td>iPad</td>\n",
       "      <td>18+</td>\n",
       "      <td>In-House Only</td>\n",
       "      <td>None</td>\n",
       "    </tr>\n",
       "    <tr>\n",
       "      <th>3</th>\n",
       "      <td>POINT (-90.101057739914 29.921354322638)</td>\n",
       "      <td>2</td>\n",
       "      <td>Children's Resource Center</td>\n",
       "      <td>913 Napoleon Avenue</td>\n",
       "      <td>70115</td>\n",
       "      <td>(504) 596-2628</td>\n",
       "      <td>10 a.m. – 8 p.m., Mon. - Thu.\\n10 a.m. - 5 p.m...</td>\n",
       "      <td>No</td>\n",
       "      <td>5.0</td>\n",
       "      <td>No</td>\n",
       "      <td>...</td>\n",
       "      <td>Yes</td>\n",
       "      <td>Yes</td>\n",
       "      <td>Yes</td>\n",
       "      <td>As Needed</td>\n",
       "      <td>NaN</td>\n",
       "      <td>Yes</td>\n",
       "      <td>iPad</td>\n",
       "      <td>18+</td>\n",
       "      <td>In-House Only</td>\n",
       "      <td>None</td>\n",
       "    </tr>\n",
       "    <tr>\n",
       "      <th>4</th>\n",
       "      <td>POINT (-90.107558120658 30.004961193384)</td>\n",
       "      <td>14</td>\n",
       "      <td>Robert E. Smith Branch</td>\n",
       "      <td>6301 Canal Blvd</td>\n",
       "      <td>70124</td>\n",
       "      <td>(504) 596-2638</td>\n",
       "      <td>10 a.m. - 8 p.m Mon-Thurs. \\n10 a.m. - 5 p.m F...</td>\n",
       "      <td>Yes</td>\n",
       "      <td>21.0</td>\n",
       "      <td>Yes</td>\n",
       "      <td>...</td>\n",
       "      <td>Yes</td>\n",
       "      <td>Yes</td>\n",
       "      <td>Yes</td>\n",
       "      <td>Full-Time</td>\n",
       "      <td>NaN</td>\n",
       "      <td>Yes</td>\n",
       "      <td>iPad</td>\n",
       "      <td>18+</td>\n",
       "      <td>In-House Only</td>\n",
       "      <td>None</td>\n",
       "    </tr>\n",
       "  </tbody>\n",
       "</table>\n",
       "<p>5 rows × 22 columns</p>\n",
       "</div>"
      ],
      "text/plain": [
       "                                   the_geom  ObjectID  \\\n",
       "0   POINT (-90.101872057386 29.97491327785)         7   \n",
       "1  POINT (-90.013800108486 29.966383690636)         6   \n",
       "2  POINT (-90.013637780585 29.922729858452)         9   \n",
       "3  POINT (-90.101057739914 29.921354322638)         2   \n",
       "4  POINT (-90.107558120658 30.004961193384)        14   \n",
       "\n",
       "                     Location              Address  Zip Code           Phone  \\\n",
       "0             Mid-City Branch    4140 Canal Street     70119  (504) 596-2654   \n",
       "1   Martin Luther King Branch   1611 Caffin Avenue     70117  (504) 596-2695   \n",
       "2     Algiers Regional Branch   3014 Holiday Drive     70131  (504) 596-2641   \n",
       "3  Children's Resource Center  913 Napoleon Avenue     70115  (504) 596-2628   \n",
       "4      Robert E. Smith Branch      6301 Canal Blvd     70124  (504) 596-2638   \n",
       "\n",
       "                                               Hours Sunday Hours  Computers  \\\n",
       "0  10 a.m. - 8 p.m., Mon.- Thurs.\\n10 a.m. - 5 p....           No       12.0   \n",
       "1  10 a.m. - 8 p.m., Mon. - Thurs.\\n10 a.m. - 5 p...           No       12.0   \n",
       "2  10 a.m. - 8 p.m., Mon.- Thurs.\\n10 a.m. - 5 p....          Yes       46.0   \n",
       "3  10 a.m. – 8 p.m., Mon. - Thu.\\n10 a.m. - 5 p.m...           No        5.0   \n",
       "4  10 a.m. - 8 p.m Mon-Thurs. \\n10 a.m. - 5 p.m F...          Yes       21.0   \n",
       "\n",
       "  Kids PC Area  ... WiFi Printing Support Available Support Type Restrictions  \\\n",
       "0           No  ...  Yes      Yes               Yes      Limited          NaN   \n",
       "1           No  ...  Yes      Yes               Yes      Partial          NaN   \n",
       "2          Yes  ...  Yes      Yes               Yes    Full-Time          NaN   \n",
       "3           No  ...  Yes      Yes               Yes    As Needed          NaN   \n",
       "4          Yes  ...  Yes      Yes               Yes    Full-Time          NaN   \n",
       "\n",
       "  Device Rental Program Device Rental Type Device Rental Requirements  \\\n",
       "0                   Yes               iPad                        18+   \n",
       "1                   Yes               iPad                        18+   \n",
       "2                   Yes               iPad                        18+   \n",
       "3                   Yes               iPad                        18+   \n",
       "4                   Yes               iPad                        18+   \n",
       "\n",
       "  Device Rental Restrictions Classes Available  \n",
       "0              In-House Only              None  \n",
       "1              In-House Only   Basic Computing  \n",
       "2              In-House Only              None  \n",
       "3              In-House Only              None  \n",
       "4              In-House Only              None  \n",
       "\n",
       "[5 rows x 22 columns]"
      ]
     },
     "execution_count": 104,
     "metadata": {},
     "output_type": "execute_result"
    }
   ],
   "source": [
    "free.head()"
   ]
  },
  {
   "cell_type": "markdown",
   "metadata": {},
   "source": [
    "Source:  \n",
    "City of New Orleans Open Data.  \n",
    "[https://data.nola.gov/Health-Education-and-Social-Services/ComputerResources/vaaq-p3ar](https://data.nola.gov/Health-Education-and-Social-Services/ComputerResources/vaaq-p3ar)."
   ]
  },
  {
   "cell_type": "markdown",
   "metadata": {},
   "source": [
    "We would only like the locations that provide access to internet, so we filter out all the ones that do not. Additionally, we only are interested in the location of these public internet resources, so we keep the longitude and latitude."
   ]
  },
  {
   "cell_type": "code",
   "execution_count": 105,
   "metadata": {},
   "outputs": [],
   "source": [
    "free = free[free[\"Internet\"] == \"Yes\"]\n",
    "# obtain the latitude and longitude using a regex\n",
    "temp = free[\"the_geom\"].str.extract(r\"(-\\d{2}\\.\\d+)\\w\\s(\\d{2}\\.\\d+)\")"
   ]
  },
  {
   "cell_type": "code",
   "execution_count": 106,
   "metadata": {},
   "outputs": [],
   "source": [
    "free[\"lon\"] = pd.to_numeric(temp[0])\n",
    "free[\"lat\"] = pd.to_numeric(temp[1])"
   ]
  },
  {
   "cell_type": "code",
   "execution_count": 107,
   "metadata": {},
   "outputs": [],
   "source": [
    "free = free[[\"lon\", \"lat\"]]"
   ]
  },
  {
   "cell_type": "code",
   "execution_count": 108,
   "metadata": {},
   "outputs": [
    {
     "data": {
      "text/html": [
       "<div>\n",
       "<style scoped>\n",
       "    .dataframe tbody tr th:only-of-type {\n",
       "        vertical-align: middle;\n",
       "    }\n",
       "\n",
       "    .dataframe tbody tr th {\n",
       "        vertical-align: top;\n",
       "    }\n",
       "\n",
       "    .dataframe thead th {\n",
       "        text-align: right;\n",
       "    }\n",
       "</style>\n",
       "<table border=\"1\" class=\"dataframe\">\n",
       "  <thead>\n",
       "    <tr style=\"text-align: right;\">\n",
       "      <th></th>\n",
       "      <th>lon</th>\n",
       "      <th>lat</th>\n",
       "    </tr>\n",
       "  </thead>\n",
       "  <tbody>\n",
       "    <tr>\n",
       "      <th>0</th>\n",
       "      <td>-90.101872</td>\n",
       "      <td>29.974913</td>\n",
       "    </tr>\n",
       "    <tr>\n",
       "      <th>1</th>\n",
       "      <td>-90.013800</td>\n",
       "      <td>29.966384</td>\n",
       "    </tr>\n",
       "    <tr>\n",
       "      <th>2</th>\n",
       "      <td>-90.013638</td>\n",
       "      <td>29.922730</td>\n",
       "    </tr>\n",
       "    <tr>\n",
       "      <th>3</th>\n",
       "      <td>-90.101058</td>\n",
       "      <td>29.921354</td>\n",
       "    </tr>\n",
       "    <tr>\n",
       "      <th>4</th>\n",
       "      <td>-90.107558</td>\n",
       "      <td>30.004961</td>\n",
       "    </tr>\n",
       "  </tbody>\n",
       "</table>\n",
       "</div>"
      ],
      "text/plain": [
       "         lon        lat\n",
       "0 -90.101872  29.974913\n",
       "1 -90.013800  29.966384\n",
       "2 -90.013638  29.922730\n",
       "3 -90.101058  29.921354\n",
       "4 -90.107558  30.004961"
      ]
     },
     "execution_count": 108,
     "metadata": {},
     "output_type": "execute_result"
    }
   ],
   "source": [
    "free.head()"
   ]
  },
  {
   "cell_type": "markdown",
   "metadata": {},
   "source": [
    "We now create a geographic data frame using GeoPandas which will allow us to create a geographic plot in our future analysis."
   ]
  },
  {
   "cell_type": "code",
   "execution_count": 109,
   "metadata": {},
   "outputs": [],
   "source": [
    "geo_free = gpd.GeoDataFrame(free)"
   ]
  },
  {
   "cell_type": "code",
   "execution_count": 110,
   "metadata": {},
   "outputs": [
    {
     "data": {
      "text/html": [
       "<div>\n",
       "<style scoped>\n",
       "    .dataframe tbody tr th:only-of-type {\n",
       "        vertical-align: middle;\n",
       "    }\n",
       "\n",
       "    .dataframe tbody tr th {\n",
       "        vertical-align: top;\n",
       "    }\n",
       "\n",
       "    .dataframe thead th {\n",
       "        text-align: right;\n",
       "    }\n",
       "</style>\n",
       "<table border=\"1\" class=\"dataframe\">\n",
       "  <thead>\n",
       "    <tr style=\"text-align: right;\">\n",
       "      <th></th>\n",
       "      <th>lon</th>\n",
       "      <th>lat</th>\n",
       "      <th>geom</th>\n",
       "    </tr>\n",
       "  </thead>\n",
       "  <tbody>\n",
       "    <tr>\n",
       "      <th>0</th>\n",
       "      <td>-90.101872</td>\n",
       "      <td>29.974913</td>\n",
       "      <td>POINT (-90.10187 29.97491)</td>\n",
       "    </tr>\n",
       "    <tr>\n",
       "      <th>1</th>\n",
       "      <td>-90.013800</td>\n",
       "      <td>29.966384</td>\n",
       "      <td>POINT (-90.01380 29.96638)</td>\n",
       "    </tr>\n",
       "    <tr>\n",
       "      <th>2</th>\n",
       "      <td>-90.013638</td>\n",
       "      <td>29.922730</td>\n",
       "      <td>POINT (-90.01364 29.92273)</td>\n",
       "    </tr>\n",
       "    <tr>\n",
       "      <th>3</th>\n",
       "      <td>-90.101058</td>\n",
       "      <td>29.921354</td>\n",
       "      <td>POINT (-90.10106 29.92135)</td>\n",
       "    </tr>\n",
       "    <tr>\n",
       "      <th>4</th>\n",
       "      <td>-90.107558</td>\n",
       "      <td>30.004961</td>\n",
       "      <td>POINT (-90.10756 30.00496)</td>\n",
       "    </tr>\n",
       "  </tbody>\n",
       "</table>\n",
       "</div>"
      ],
      "text/plain": [
       "         lon        lat                        geom\n",
       "0 -90.101872  29.974913  POINT (-90.10187 29.97491)\n",
       "1 -90.013800  29.966384  POINT (-90.01380 29.96638)\n",
       "2 -90.013638  29.922730  POINT (-90.01364 29.92273)\n",
       "3 -90.101058  29.921354  POINT (-90.10106 29.92135)\n",
       "4 -90.107558  30.004961  POINT (-90.10756 30.00496)"
      ]
     },
     "execution_count": 110,
     "metadata": {},
     "output_type": "execute_result"
    }
   ],
   "source": [
    "# create a geometry column containing Point objects which will allow for plotting\n",
    "geo_free[\"geom\"] = geo_free.apply(lambda row: Point(row[\"lon\"], row[\"lat\"]), axis=1)\n",
    "geo_free = geo_free.set_geometry(\"geom\")\n",
    "geo_free.head()"
   ]
  },
  {
   "cell_type": "markdown",
   "metadata": {},
   "source": [
    "## Race, Income, and Education Data"
   ]
  },
  {
   "cell_type": "markdown",
   "metadata": {},
   "source": [
    "Our secondary goal is to evauluate the impact of racial makeup, income, and educational attainment by census tract on access to internet in that census tract. In order to do this, we load another data set sourced from NHGIS which contains information for the racial makeup of each census tract, the educational attainment for residents 25 years of age or older by census tract, and the median household income by census tract."
   ]
  },
  {
   "cell_type": "code",
   "execution_count": 111,
   "metadata": {},
   "outputs": [
    {
     "data": {
      "text/html": [
       "<div>\n",
       "<style scoped>\n",
       "    .dataframe tbody tr th:only-of-type {\n",
       "        vertical-align: middle;\n",
       "    }\n",
       "\n",
       "    .dataframe tbody tr th {\n",
       "        vertical-align: top;\n",
       "    }\n",
       "\n",
       "    .dataframe thead th {\n",
       "        text-align: right;\n",
       "    }\n",
       "</style>\n",
       "<table border=\"1\" class=\"dataframe\">\n",
       "  <thead>\n",
       "    <tr style=\"text-align: right;\">\n",
       "      <th></th>\n",
       "      <th>GISJOIN</th>\n",
       "      <th>YEAR</th>\n",
       "      <th>REGIONA</th>\n",
       "      <th>DIVISIONA</th>\n",
       "      <th>STATE</th>\n",
       "      <th>STATEA</th>\n",
       "      <th>COUNTY</th>\n",
       "      <th>COUNTYA</th>\n",
       "      <th>COUSUBA</th>\n",
       "      <th>PLACEA</th>\n",
       "      <th>...</th>\n",
       "      <th>AH04E017</th>\n",
       "      <th>AH04E018</th>\n",
       "      <th>AH04E019</th>\n",
       "      <th>AH04E020</th>\n",
       "      <th>AH04E021</th>\n",
       "      <th>AH04E022</th>\n",
       "      <th>AH04E023</th>\n",
       "      <th>AH04E024</th>\n",
       "      <th>AH04E025</th>\n",
       "      <th>AH1PE001</th>\n",
       "    </tr>\n",
       "  </thead>\n",
       "  <tbody>\n",
       "    <tr>\n",
       "      <th>0</th>\n",
       "      <td>G0100010020100</td>\n",
       "      <td>2013-2017</td>\n",
       "      <td>NaN</td>\n",
       "      <td>NaN</td>\n",
       "      <td>Alabama</td>\n",
       "      <td>1</td>\n",
       "      <td>Autauga County</td>\n",
       "      <td>1</td>\n",
       "      <td>NaN</td>\n",
       "      <td>NaN</td>\n",
       "      <td>...</td>\n",
       "      <td>282</td>\n",
       "      <td>88</td>\n",
       "      <td>34</td>\n",
       "      <td>184</td>\n",
       "      <td>77</td>\n",
       "      <td>261</td>\n",
       "      <td>142</td>\n",
       "      <td>45</td>\n",
       "      <td>28</td>\n",
       "      <td>67826.0</td>\n",
       "    </tr>\n",
       "    <tr>\n",
       "      <th>1</th>\n",
       "      <td>G0100010020200</td>\n",
       "      <td>2013-2017</td>\n",
       "      <td>NaN</td>\n",
       "      <td>NaN</td>\n",
       "      <td>Alabama</td>\n",
       "      <td>1</td>\n",
       "      <td>Autauga County</td>\n",
       "      <td>1</td>\n",
       "      <td>NaN</td>\n",
       "      <td>NaN</td>\n",
       "      <td>...</td>\n",
       "      <td>495</td>\n",
       "      <td>90</td>\n",
       "      <td>91</td>\n",
       "      <td>182</td>\n",
       "      <td>106</td>\n",
       "      <td>166</td>\n",
       "      <td>51</td>\n",
       "      <td>16</td>\n",
       "      <td>5</td>\n",
       "      <td>41287.0</td>\n",
       "    </tr>\n",
       "    <tr>\n",
       "      <th>2</th>\n",
       "      <td>G0100010020300</td>\n",
       "      <td>2013-2017</td>\n",
       "      <td>NaN</td>\n",
       "      <td>NaN</td>\n",
       "      <td>Alabama</td>\n",
       "      <td>1</td>\n",
       "      <td>Autauga County</td>\n",
       "      <td>1</td>\n",
       "      <td>NaN</td>\n",
       "      <td>NaN</td>\n",
       "      <td>...</td>\n",
       "      <td>724</td>\n",
       "      <td>114</td>\n",
       "      <td>161</td>\n",
       "      <td>446</td>\n",
       "      <td>146</td>\n",
       "      <td>232</td>\n",
       "      <td>150</td>\n",
       "      <td>20</td>\n",
       "      <td>19</td>\n",
       "      <td>46806.0</td>\n",
       "    </tr>\n",
       "    <tr>\n",
       "      <th>3</th>\n",
       "      <td>G0100010020400</td>\n",
       "      <td>2013-2017</td>\n",
       "      <td>NaN</td>\n",
       "      <td>NaN</td>\n",
       "      <td>Alabama</td>\n",
       "      <td>1</td>\n",
       "      <td>Autauga County</td>\n",
       "      <td>1</td>\n",
       "      <td>NaN</td>\n",
       "      <td>NaN</td>\n",
       "      <td>...</td>\n",
       "      <td>873</td>\n",
       "      <td>208</td>\n",
       "      <td>249</td>\n",
       "      <td>291</td>\n",
       "      <td>250</td>\n",
       "      <td>540</td>\n",
       "      <td>156</td>\n",
       "      <td>38</td>\n",
       "      <td>57</td>\n",
       "      <td>55895.0</td>\n",
       "    </tr>\n",
       "    <tr>\n",
       "      <th>4</th>\n",
       "      <td>G0100010020500</td>\n",
       "      <td>2013-2017</td>\n",
       "      <td>NaN</td>\n",
       "      <td>NaN</td>\n",
       "      <td>Alabama</td>\n",
       "      <td>1</td>\n",
       "      <td>Autauga County</td>\n",
       "      <td>1</td>\n",
       "      <td>NaN</td>\n",
       "      <td>NaN</td>\n",
       "      <td>...</td>\n",
       "      <td>1331</td>\n",
       "      <td>264</td>\n",
       "      <td>439</td>\n",
       "      <td>1033</td>\n",
       "      <td>587</td>\n",
       "      <td>1446</td>\n",
       "      <td>1037</td>\n",
       "      <td>197</td>\n",
       "      <td>87</td>\n",
       "      <td>68143.0</td>\n",
       "    </tr>\n",
       "  </tbody>\n",
       "</table>\n",
       "<p>5 rows × 73 columns</p>\n",
       "</div>"
      ],
      "text/plain": [
       "          GISJOIN       YEAR  REGIONA  DIVISIONA    STATE  STATEA  \\\n",
       "0  G0100010020100  2013-2017      NaN        NaN  Alabama       1   \n",
       "1  G0100010020200  2013-2017      NaN        NaN  Alabama       1   \n",
       "2  G0100010020300  2013-2017      NaN        NaN  Alabama       1   \n",
       "3  G0100010020400  2013-2017      NaN        NaN  Alabama       1   \n",
       "4  G0100010020500  2013-2017      NaN        NaN  Alabama       1   \n",
       "\n",
       "           COUNTY  COUNTYA  COUSUBA  PLACEA  ...  AH04E017  AH04E018  \\\n",
       "0  Autauga County        1      NaN     NaN  ...       282        88   \n",
       "1  Autauga County        1      NaN     NaN  ...       495        90   \n",
       "2  Autauga County        1      NaN     NaN  ...       724       114   \n",
       "3  Autauga County        1      NaN     NaN  ...       873       208   \n",
       "4  Autauga County        1      NaN     NaN  ...      1331       264   \n",
       "\n",
       "   AH04E019  AH04E020  AH04E021  AH04E022  AH04E023  AH04E024  AH04E025  \\\n",
       "0        34       184        77       261       142        45        28   \n",
       "1        91       182       106       166        51        16         5   \n",
       "2       161       446       146       232       150        20        19   \n",
       "3       249       291       250       540       156        38        57   \n",
       "4       439      1033       587      1446      1037       197        87   \n",
       "\n",
       "   AH1PE001  \n",
       "0   67826.0  \n",
       "1   41287.0  \n",
       "2   46806.0  \n",
       "3   55895.0  \n",
       "4   68143.0  \n",
       "\n",
       "[5 rows x 73 columns]"
      ]
     },
     "execution_count": 111,
     "metadata": {},
     "output_type": "execute_result"
    }
   ],
   "source": [
    "rci = pd.read_csv(\"./data/race_education_income.csv\", encoding=\"ISO-8859-1\")\n",
    "rci.head()"
   ]
  },
  {
   "cell_type": "markdown",
   "metadata": {},
   "source": [
    "Source:  \n",
    "Steven Manson, Jonathan Schroeder, David Van Riper, Tracy Kugler, and Steven Ruggles.  \n",
    "IPUMS National Historical Geographic Information System: Version 16.0  \n",
    "2017 American Community Survey: 5-Year Data \\[2013-2017, Tracts & Larger Areas\\]. Minneapolis, MN: IPUMS. 2021.  \n",
    "[http://doi.org/10.18128/D050.V16.0](http://doi.org/10.18128/D050.V16.0)"
   ]
  },
  {
   "cell_type": "markdown",
   "metadata": {},
   "source": [
    "Again, this data set contains country-wide data, and we would like to restrict our consideration to Orleans Parish."
   ]
  },
  {
   "cell_type": "code",
   "execution_count": 112,
   "metadata": {},
   "outputs": [],
   "source": [
    "# filter out everywhere besides orleans parish\n",
    "rci = rci[(rci[\"STATE\"] == \"Louisiana\") & (rci[\"COUNTY\"] == \"Orleans Parish\")]"
   ]
  },
  {
   "cell_type": "markdown",
   "metadata": {},
   "source": [
    "### Race Dataset\n",
    "We would like to separate this large data set into three different data sets for race, income, and educational attainment. For the race data set, we select census tract and all the race information collected in the survey. Once again, the definition of the variables is located in the data folder on github, so we rename the columns to useful labels."
   ]
  },
  {
   "cell_type": "code",
   "execution_count": 113,
   "metadata": {},
   "outputs": [],
   "source": [
    "race = rci[[\"TRACTA\", \"AHY2E001\", \"AHY2E002\", \"AHY2E003\", \"AHY2E004\", \"AHY2E005\", \"AHY2E006\", \"AHY2E007\", \n",
    "            \"AHY2E008\"]]\n",
    "race = race.rename(columns={\"TRACTA\":\"Census Tract\", \"AHY2E001\":\"Total\", \"AHY2E002\":\"White\", \"AHY2E003\":\"Black\", \n",
    "                            \"AHY2E004\":\"Native American\", \"AHY2E005\":\"Asian\", \"AHY2E006\":\"Pacific Islander\", \n",
    "                            \"AHY2E007\":\"Other\", \"AHY2E008\":\">= 2 Races\"})\n",
    "race.set_index(\"Census Tract\", inplace=True)\n",
    "race = race[race[\"Total\"] > 0]"
   ]
  },
  {
   "cell_type": "markdown",
   "metadata": {},
   "source": [
    "For the purposes of our study, it is more informatative to consider fewer variables, and therefore we will only consider the white population and the non-white population."
   ]
  },
  {
   "cell_type": "code",
   "execution_count": 114,
   "metadata": {},
   "outputs": [],
   "source": [
    "race[\"Non-White\"] = race[[\"Black\", \"Native American\", \"Asian\", \"Pacific Islander\", \"Other\", \n",
    "                          \">= 2 Races\"]].sum(axis=1)"
   ]
  },
  {
   "cell_type": "code",
   "execution_count": 115,
   "metadata": {},
   "outputs": [
    {
     "data": {
      "text/html": [
       "<div>\n",
       "<style scoped>\n",
       "    .dataframe tbody tr th:only-of-type {\n",
       "        vertical-align: middle;\n",
       "    }\n",
       "\n",
       "    .dataframe tbody tr th {\n",
       "        vertical-align: top;\n",
       "    }\n",
       "\n",
       "    .dataframe thead th {\n",
       "        text-align: right;\n",
       "    }\n",
       "</style>\n",
       "<table border=\"1\" class=\"dataframe\">\n",
       "  <thead>\n",
       "    <tr style=\"text-align: right;\">\n",
       "      <th></th>\n",
       "      <th>Total</th>\n",
       "      <th>White</th>\n",
       "      <th>Non-White</th>\n",
       "    </tr>\n",
       "    <tr>\n",
       "      <th>Census Tract</th>\n",
       "      <th></th>\n",
       "      <th></th>\n",
       "      <th></th>\n",
       "    </tr>\n",
       "  </thead>\n",
       "  <tbody>\n",
       "    <tr>\n",
       "      <th>100</th>\n",
       "      <td>2811</td>\n",
       "      <td>2574</td>\n",
       "      <td>237</td>\n",
       "    </tr>\n",
       "    <tr>\n",
       "      <th>200</th>\n",
       "      <td>1513</td>\n",
       "      <td>206</td>\n",
       "      <td>1307</td>\n",
       "    </tr>\n",
       "    <tr>\n",
       "      <th>300</th>\n",
       "      <td>1228</td>\n",
       "      <td>127</td>\n",
       "      <td>1101</td>\n",
       "    </tr>\n",
       "    <tr>\n",
       "      <th>400</th>\n",
       "      <td>2034</td>\n",
       "      <td>311</td>\n",
       "      <td>1723</td>\n",
       "    </tr>\n",
       "    <tr>\n",
       "      <th>601</th>\n",
       "      <td>1037</td>\n",
       "      <td>28</td>\n",
       "      <td>1009</td>\n",
       "    </tr>\n",
       "  </tbody>\n",
       "</table>\n",
       "</div>"
      ],
      "text/plain": [
       "              Total  White  Non-White\n",
       "Census Tract                         \n",
       "100            2811   2574        237\n",
       "200            1513    206       1307\n",
       "300            1228    127       1101\n",
       "400            2034    311       1723\n",
       "601            1037     28       1009"
      ]
     },
     "execution_count": 115,
     "metadata": {},
     "output_type": "execute_result"
    }
   ],
   "source": [
    "race = race.drop(columns=[\"Black\", \"Native American\", \"Asian\", \"Pacific Islander\", \"Other\", \">= 2 Races\"])\n",
    "race.head()"
   ]
  },
  {
   "cell_type": "markdown",
   "metadata": {},
   "source": [
    "It will be easier to compare observations if we obtain the proportion of each race by census tract which we do below."
   ]
  },
  {
   "cell_type": "code",
   "execution_count": 116,
   "metadata": {},
   "outputs": [
    {
     "data": {
      "text/html": [
       "<div>\n",
       "<style scoped>\n",
       "    .dataframe tbody tr th:only-of-type {\n",
       "        vertical-align: middle;\n",
       "    }\n",
       "\n",
       "    .dataframe tbody tr th {\n",
       "        vertical-align: top;\n",
       "    }\n",
       "\n",
       "    .dataframe thead th {\n",
       "        text-align: right;\n",
       "    }\n",
       "</style>\n",
       "<table border=\"1\" class=\"dataframe\">\n",
       "  <thead>\n",
       "    <tr style=\"text-align: right;\">\n",
       "      <th></th>\n",
       "      <th>White</th>\n",
       "      <th>Non-White</th>\n",
       "    </tr>\n",
       "    <tr>\n",
       "      <th>Census Tract</th>\n",
       "      <th></th>\n",
       "      <th></th>\n",
       "    </tr>\n",
       "  </thead>\n",
       "  <tbody>\n",
       "    <tr>\n",
       "      <th>100</th>\n",
       "      <td>0.915688</td>\n",
       "      <td>0.084312</td>\n",
       "    </tr>\n",
       "    <tr>\n",
       "      <th>200</th>\n",
       "      <td>0.136153</td>\n",
       "      <td>0.863847</td>\n",
       "    </tr>\n",
       "    <tr>\n",
       "      <th>300</th>\n",
       "      <td>0.103420</td>\n",
       "      <td>0.896580</td>\n",
       "    </tr>\n",
       "    <tr>\n",
       "      <th>400</th>\n",
       "      <td>0.152901</td>\n",
       "      <td>0.847099</td>\n",
       "    </tr>\n",
       "    <tr>\n",
       "      <th>601</th>\n",
       "      <td>0.027001</td>\n",
       "      <td>0.972999</td>\n",
       "    </tr>\n",
       "  </tbody>\n",
       "</table>\n",
       "</div>"
      ],
      "text/plain": [
       "                 White  Non-White\n",
       "Census Tract                     \n",
       "100           0.915688   0.084312\n",
       "200           0.136153   0.863847\n",
       "300           0.103420   0.896580\n",
       "400           0.152901   0.847099\n",
       "601           0.027001   0.972999"
      ]
     },
     "execution_count": 116,
     "metadata": {},
     "output_type": "execute_result"
    }
   ],
   "source": [
    "race_proportions = race.drop(columns=[\"Total\"]).divide(race[\"Total\"], axis=0)\n",
    "race_proportions.head()"
   ]
  },
  {
   "cell_type": "markdown",
   "metadata": {},
   "source": [
    "### Education Dataset\n",
    "Now, we create a new data frame containing all information regarding educational attainment by census tract."
   ]
  },
  {
   "cell_type": "code",
   "execution_count": 117,
   "metadata": {},
   "outputs": [],
   "source": [
    "education = rci[[\"TRACTA\", \"AH04E001\", \"AH04E002\", \"AH04E003\", \"AH04E004\", \"AH04E005\", \"AH04E006\", \"AH04E007\",\n",
    "                 \"AH04E008\", \"AH04E009\", \"AH04E010\", \"AH04E011\", \"AH04E012\", \"AH04E013\", \"AH04E014\", \"AH04E015\",\n",
    "                 \"AH04E016\", \"AH04E017\", \"AH04E018\", \"AH04E019\", \"AH04E020\", \"AH04E021\", \"AH04E022\", \"AH04E023\",\n",
    "                 \"AH04E024\", \"AH04E025\"]].copy()"
   ]
  },
  {
   "cell_type": "markdown",
   "metadata": {},
   "source": [
    "The education data set contains a lot of information that is not particularly useful. For example, there are variables for completion of each grade up to $12^{\\text{th}}$ which we group into no high school education. We group all information into 2 columns, the population who did not complete high school, and the population that did complete high school."
   ]
  },
  {
   "cell_type": "code",
   "execution_count": 118,
   "metadata": {},
   "outputs": [],
   "source": [
    "# group all variables corresponding to an incomplete high school education\n",
    "education[\"No High School\"] = education[[\"AH04E002\", \"AH04E003\", \"AH04E004\", \"AH04E005\", \"AH04E006\", \"AH04E007\", \n",
    "                                         \"AH04E008\", \"AH04E009\", \"AH04E010\", \"AH04E011\", \"AH04E012\", \"AH04E013\", \n",
    "                                         \"AH04E014\", \"AH04E015\", \"AH04E016\"]].sum(axis=1)\n",
    "# group all variables corresponding to a high school degree, GED, or above\n",
    "education[\"High School or Above\"] = education[[\"AH04E017\", \"AH04E018\", \"AH04E019\", \"AH04E020\", \"AH04E021\",\n",
    "                                              \"AH04E022\", \"AH04E023\", \"AH04E024\", \"AH04E025\"]].sum(axis=1)\n",
    "# drop all columns that we have grouped\n",
    "education = education.drop(columns=[\"AH04E002\", \"AH04E003\", \"AH04E004\", \"AH04E005\", \"AH04E006\", \"AH04E007\", \n",
    "                                    \"AH04E008\", \"AH04E009\", \"AH04E010\", \"AH04E011\", \"AH04E012\", \"AH04E013\", \n",
    "                                    \"AH04E014\", \"AH04E015\", \"AH04E016\", \"AH04E017\", \"AH04E018\", \"AH04E019\", \n",
    "                                    \"AH04E020\", \"AH04E021\", \"AH04E022\", \"AH04E023\", \"AH04E024\", \"AH04E025\"])\n",
    "education = education.rename(columns={\"TRACTA\":\"Census Tract\", \"AH04E001\":\"Total\"})\n",
    "education.set_index(\"Census Tract\", inplace=True)"
   ]
  },
  {
   "cell_type": "markdown",
   "metadata": {},
   "source": [
    "Again, there are census tracts that do not contain any information, so we filter out any row with zero total people surveyed."
   ]
  },
  {
   "cell_type": "code",
   "execution_count": 119,
   "metadata": {},
   "outputs": [
    {
     "data": {
      "text/html": [
       "<div>\n",
       "<style scoped>\n",
       "    .dataframe tbody tr th:only-of-type {\n",
       "        vertical-align: middle;\n",
       "    }\n",
       "\n",
       "    .dataframe tbody tr th {\n",
       "        vertical-align: top;\n",
       "    }\n",
       "\n",
       "    .dataframe thead th {\n",
       "        text-align: right;\n",
       "    }\n",
       "</style>\n",
       "<table border=\"1\" class=\"dataframe\">\n",
       "  <thead>\n",
       "    <tr style=\"text-align: right;\">\n",
       "      <th></th>\n",
       "      <th>Total</th>\n",
       "      <th>No High School</th>\n",
       "      <th>High School or Above</th>\n",
       "    </tr>\n",
       "    <tr>\n",
       "      <th>Census Tract</th>\n",
       "      <th></th>\n",
       "      <th></th>\n",
       "      <th></th>\n",
       "    </tr>\n",
       "  </thead>\n",
       "  <tbody>\n",
       "    <tr>\n",
       "      <th>100</th>\n",
       "      <td>2278</td>\n",
       "      <td>65</td>\n",
       "      <td>2213</td>\n",
       "    </tr>\n",
       "    <tr>\n",
       "      <th>200</th>\n",
       "      <td>1070</td>\n",
       "      <td>298</td>\n",
       "      <td>772</td>\n",
       "    </tr>\n",
       "    <tr>\n",
       "      <th>300</th>\n",
       "      <td>949</td>\n",
       "      <td>120</td>\n",
       "      <td>829</td>\n",
       "    </tr>\n",
       "    <tr>\n",
       "      <th>400</th>\n",
       "      <td>1424</td>\n",
       "      <td>280</td>\n",
       "      <td>1144</td>\n",
       "    </tr>\n",
       "    <tr>\n",
       "      <th>601</th>\n",
       "      <td>691</td>\n",
       "      <td>351</td>\n",
       "      <td>340</td>\n",
       "    </tr>\n",
       "  </tbody>\n",
       "</table>\n",
       "</div>"
      ],
      "text/plain": [
       "              Total  No High School  High School or Above\n",
       "Census Tract                                             \n",
       "100            2278              65                  2213\n",
       "200            1070             298                   772\n",
       "300             949             120                   829\n",
       "400            1424             280                  1144\n",
       "601             691             351                   340"
      ]
     },
     "execution_count": 119,
     "metadata": {},
     "output_type": "execute_result"
    }
   ],
   "source": [
    "education = education[education[\"Total\"] > 0]\n",
    "education.head()"
   ]
  },
  {
   "cell_type": "markdown",
   "metadata": {},
   "source": [
    "In order to facilitate easier comparisons between census tracts, we obtain the proportions of each tract with no high school education and a high school education or more schooling."
   ]
  },
  {
   "cell_type": "code",
   "execution_count": 120,
   "metadata": {},
   "outputs": [
    {
     "data": {
      "text/html": [
       "<div>\n",
       "<style scoped>\n",
       "    .dataframe tbody tr th:only-of-type {\n",
       "        vertical-align: middle;\n",
       "    }\n",
       "\n",
       "    .dataframe tbody tr th {\n",
       "        vertical-align: top;\n",
       "    }\n",
       "\n",
       "    .dataframe thead th {\n",
       "        text-align: right;\n",
       "    }\n",
       "</style>\n",
       "<table border=\"1\" class=\"dataframe\">\n",
       "  <thead>\n",
       "    <tr style=\"text-align: right;\">\n",
       "      <th></th>\n",
       "      <th>No High School</th>\n",
       "      <th>High School or Above</th>\n",
       "    </tr>\n",
       "    <tr>\n",
       "      <th>Census Tract</th>\n",
       "      <th></th>\n",
       "      <th></th>\n",
       "    </tr>\n",
       "  </thead>\n",
       "  <tbody>\n",
       "    <tr>\n",
       "      <th>100</th>\n",
       "      <td>0.028534</td>\n",
       "      <td>0.971466</td>\n",
       "    </tr>\n",
       "    <tr>\n",
       "      <th>200</th>\n",
       "      <td>0.278505</td>\n",
       "      <td>0.721495</td>\n",
       "    </tr>\n",
       "    <tr>\n",
       "      <th>300</th>\n",
       "      <td>0.126449</td>\n",
       "      <td>0.873551</td>\n",
       "    </tr>\n",
       "    <tr>\n",
       "      <th>400</th>\n",
       "      <td>0.196629</td>\n",
       "      <td>0.803371</td>\n",
       "    </tr>\n",
       "    <tr>\n",
       "      <th>601</th>\n",
       "      <td>0.507959</td>\n",
       "      <td>0.492041</td>\n",
       "    </tr>\n",
       "  </tbody>\n",
       "</table>\n",
       "</div>"
      ],
      "text/plain": [
       "              No High School  High School or Above\n",
       "Census Tract                                      \n",
       "100                 0.028534              0.971466\n",
       "200                 0.278505              0.721495\n",
       "300                 0.126449              0.873551\n",
       "400                 0.196629              0.803371\n",
       "601                 0.507959              0.492041"
      ]
     },
     "execution_count": 120,
     "metadata": {},
     "output_type": "execute_result"
    }
   ],
   "source": [
    "education_proportions = education.drop(columns=[\"Total\"]).divide(education[\"Total\"], axis=0)\n",
    "education_proportions.head()"
   ]
  },
  {
   "cell_type": "markdown",
   "metadata": {},
   "source": [
    "### Income Dataset\n",
    "The income dataset contains very little information, it simply contains the the census tract number and the median household income for that census tract. The only cleaning we must perform on this dataframe is the removal of census tracts with no income information."
   ]
  },
  {
   "cell_type": "code",
   "execution_count": 121,
   "metadata": {},
   "outputs": [],
   "source": [
    "income = rci[[\"TRACTA\",\"AH1PE001\"]]"
   ]
  },
  {
   "cell_type": "code",
   "execution_count": 122,
   "metadata": {},
   "outputs": [
    {
     "data": {
      "text/html": [
       "<div>\n",
       "<style scoped>\n",
       "    .dataframe tbody tr th:only-of-type {\n",
       "        vertical-align: middle;\n",
       "    }\n",
       "\n",
       "    .dataframe tbody tr th {\n",
       "        vertical-align: top;\n",
       "    }\n",
       "\n",
       "    .dataframe thead th {\n",
       "        text-align: right;\n",
       "    }\n",
       "</style>\n",
       "<table border=\"1\" class=\"dataframe\">\n",
       "  <thead>\n",
       "    <tr style=\"text-align: right;\">\n",
       "      <th></th>\n",
       "      <th>Median Household Income</th>\n",
       "    </tr>\n",
       "    <tr>\n",
       "      <th>Census Tract</th>\n",
       "      <th></th>\n",
       "    </tr>\n",
       "  </thead>\n",
       "  <tbody>\n",
       "    <tr>\n",
       "      <th>100</th>\n",
       "      <td>70292.0</td>\n",
       "    </tr>\n",
       "    <tr>\n",
       "      <th>200</th>\n",
       "      <td>32467.0</td>\n",
       "    </tr>\n",
       "    <tr>\n",
       "      <th>300</th>\n",
       "      <td>26116.0</td>\n",
       "    </tr>\n",
       "    <tr>\n",
       "      <th>400</th>\n",
       "      <td>25565.0</td>\n",
       "    </tr>\n",
       "    <tr>\n",
       "      <th>601</th>\n",
       "      <td>13145.0</td>\n",
       "    </tr>\n",
       "  </tbody>\n",
       "</table>\n",
       "</div>"
      ],
      "text/plain": [
       "              Median Household Income\n",
       "Census Tract                         \n",
       "100                           70292.0\n",
       "200                           32467.0\n",
       "300                           26116.0\n",
       "400                           25565.0\n",
       "601                           13145.0"
      ]
     },
     "execution_count": 122,
     "metadata": {},
     "output_type": "execute_result"
    }
   ],
   "source": [
    "income = income.dropna()\n",
    "income = income.rename(columns={\"TRACTA\":\"Census Tract\",\"AH1PE001\":\"Median Household Income\"})\n",
    "income.set_index(\"Census Tract\", inplace=True)\n",
    "income.head()"
   ]
  },
  {
   "cell_type": "markdown",
   "metadata": {},
   "source": [
    "### Population Dataset\n",
    "The population dataset is also the result of the American Community Surveyed and was obtained via [NHGIS](https://data2.nhgis.org/main). It will be useful to know the population of each tract because we are interested in discovering whether internet access is distributed well for the largest number of people who require it. The only relevant information in the population dataset is the tract number and the total population of the tract. Therefore, we remove all tracts that do not correspond to Orleans Parish and only select the relevant columns."
   ]
  },
  {
   "cell_type": "code",
   "execution_count": 123,
   "metadata": {},
   "outputs": [],
   "source": [
    "pop = pd.read_csv(\"./data/population.csv\", encoding=\"ISO-8859-1\")"
   ]
  },
  {
   "cell_type": "code",
   "execution_count": 124,
   "metadata": {},
   "outputs": [],
   "source": [
    "pop = pop[(pop[\"STATE\"] == \"Louisiana\") & (pop[\"COUNTY\"] == \"Orleans Parish\")]"
   ]
  },
  {
   "cell_type": "code",
   "execution_count": 125,
   "metadata": {},
   "outputs": [],
   "source": [
    "pop = pop[[\"TRACTA\", \"AHY1E001\", \"GISJOIN\"]].rename(columns={\"AHY1E001\":\"Population\", \n",
    "                                                             \"TRACTA\":\"Tract\"}).set_index(\"Tract\")"
   ]
  },
  {
   "cell_type": "code",
   "execution_count": 126,
   "metadata": {},
   "outputs": [
    {
     "data": {
      "text/html": [
       "<div>\n",
       "<style scoped>\n",
       "    .dataframe tbody tr th:only-of-type {\n",
       "        vertical-align: middle;\n",
       "    }\n",
       "\n",
       "    .dataframe tbody tr th {\n",
       "        vertical-align: top;\n",
       "    }\n",
       "\n",
       "    .dataframe thead th {\n",
       "        text-align: right;\n",
       "    }\n",
       "</style>\n",
       "<table border=\"1\" class=\"dataframe\">\n",
       "  <thead>\n",
       "    <tr style=\"text-align: right;\">\n",
       "      <th></th>\n",
       "      <th>Population</th>\n",
       "      <th>GISJOIN</th>\n",
       "    </tr>\n",
       "    <tr>\n",
       "      <th>Tract</th>\n",
       "      <th></th>\n",
       "      <th></th>\n",
       "    </tr>\n",
       "  </thead>\n",
       "  <tbody>\n",
       "    <tr>\n",
       "      <th>100</th>\n",
       "      <td>2811</td>\n",
       "      <td>G2200710000100</td>\n",
       "    </tr>\n",
       "    <tr>\n",
       "      <th>200</th>\n",
       "      <td>1513</td>\n",
       "      <td>G2200710000200</td>\n",
       "    </tr>\n",
       "    <tr>\n",
       "      <th>300</th>\n",
       "      <td>1228</td>\n",
       "      <td>G2200710000300</td>\n",
       "    </tr>\n",
       "    <tr>\n",
       "      <th>400</th>\n",
       "      <td>2034</td>\n",
       "      <td>G2200710000400</td>\n",
       "    </tr>\n",
       "    <tr>\n",
       "      <th>601</th>\n",
       "      <td>1037</td>\n",
       "      <td>G2200710000601</td>\n",
       "    </tr>\n",
       "  </tbody>\n",
       "</table>\n",
       "</div>"
      ],
      "text/plain": [
       "       Population         GISJOIN\n",
       "Tract                            \n",
       "100          2811  G2200710000100\n",
       "200          1513  G2200710000200\n",
       "300          1228  G2200710000300\n",
       "400          2034  G2200710000400\n",
       "601          1037  G2200710000601"
      ]
     },
     "execution_count": 126,
     "metadata": {},
     "output_type": "execute_result"
    }
   ],
   "source": [
    "pop = pop[pop[\"Population\"] > 0]\n",
    "pop.head()"
   ]
  },
  {
   "cell_type": "markdown",
   "metadata": {},
   "source": [
    "## Geographic Data\n",
    "\n",
    "In order to perform mapping of the census tracts, we require a shape file which gives the geometry of each census tract. This file is sourced from the [US Census Bureau](https://www.census.gov/geographies/mapping-files/time-series/geo/tiger-line-file.html). The information contained in the data set covers all of Lousiana, so again we filter for Orleans Parish and only keep the relevant columns."
   ]
  },
  {
   "cell_type": "code",
   "execution_count": 131,
   "metadata": {},
   "outputs": [
    {
     "data": {
      "text/html": [
       "<div>\n",
       "<style scoped>\n",
       "    .dataframe tbody tr th:only-of-type {\n",
       "        vertical-align: middle;\n",
       "    }\n",
       "\n",
       "    .dataframe tbody tr th {\n",
       "        vertical-align: top;\n",
       "    }\n",
       "\n",
       "    .dataframe thead th {\n",
       "        text-align: right;\n",
       "    }\n",
       "</style>\n",
       "<table border=\"1\" class=\"dataframe\">\n",
       "  <thead>\n",
       "    <tr style=\"text-align: right;\">\n",
       "      <th></th>\n",
       "      <th>STATEFP</th>\n",
       "      <th>COUNTYFP</th>\n",
       "      <th>TRACTCE</th>\n",
       "      <th>GEOID</th>\n",
       "      <th>NAME</th>\n",
       "      <th>NAMELSAD</th>\n",
       "      <th>MTFCC</th>\n",
       "      <th>FUNCSTAT</th>\n",
       "      <th>ALAND</th>\n",
       "      <th>AWATER</th>\n",
       "      <th>INTPTLAT</th>\n",
       "      <th>INTPTLON</th>\n",
       "      <th>geometry</th>\n",
       "    </tr>\n",
       "  </thead>\n",
       "  <tbody>\n",
       "    <tr>\n",
       "      <th>0</th>\n",
       "      <td>22</td>\n",
       "      <td>055</td>\n",
       "      <td>001407</td>\n",
       "      <td>22055001407</td>\n",
       "      <td>14.07</td>\n",
       "      <td>Census Tract 14.07</td>\n",
       "      <td>G5020</td>\n",
       "      <td>S</td>\n",
       "      <td>6036812</td>\n",
       "      <td>0</td>\n",
       "      <td>+30.1760902</td>\n",
       "      <td>-092.0362245</td>\n",
       "      <td>POLYGON ((-92.05387 30.16462, -92.05516 30.166...</td>\n",
       "    </tr>\n",
       "    <tr>\n",
       "      <th>1</th>\n",
       "      <td>22</td>\n",
       "      <td>055</td>\n",
       "      <td>001500</td>\n",
       "      <td>22055001500</td>\n",
       "      <td>15</td>\n",
       "      <td>Census Tract 15</td>\n",
       "      <td>G5020</td>\n",
       "      <td>S</td>\n",
       "      <td>5452816</td>\n",
       "      <td>0</td>\n",
       "      <td>+30.1985322</td>\n",
       "      <td>-092.0283251</td>\n",
       "      <td>POLYGON ((-92.05360 30.20157, -92.05345 30.201...</td>\n",
       "    </tr>\n",
       "    <tr>\n",
       "      <th>2</th>\n",
       "      <td>22</td>\n",
       "      <td>055</td>\n",
       "      <td>001700</td>\n",
       "      <td>22055001700</td>\n",
       "      <td>17</td>\n",
       "      <td>Census Tract 17</td>\n",
       "      <td>G5020</td>\n",
       "      <td>S</td>\n",
       "      <td>5133690</td>\n",
       "      <td>0</td>\n",
       "      <td>+30.1792758</td>\n",
       "      <td>-092.0586651</td>\n",
       "      <td>POLYGON ((-92.07449 30.17809, -92.07415 30.178...</td>\n",
       "    </tr>\n",
       "    <tr>\n",
       "      <th>3</th>\n",
       "      <td>22</td>\n",
       "      <td>055</td>\n",
       "      <td>001902</td>\n",
       "      <td>22055001902</td>\n",
       "      <td>19.02</td>\n",
       "      <td>Census Tract 19.02</td>\n",
       "      <td>G5020</td>\n",
       "      <td>S</td>\n",
       "      <td>17033549</td>\n",
       "      <td>0</td>\n",
       "      <td>+30.2231859</td>\n",
       "      <td>-092.1082895</td>\n",
       "      <td>POLYGON ((-92.14213 30.22526, -92.14212 30.225...</td>\n",
       "    </tr>\n",
       "    <tr>\n",
       "      <th>4</th>\n",
       "      <td>22</td>\n",
       "      <td>055</td>\n",
       "      <td>001903</td>\n",
       "      <td>22055001903</td>\n",
       "      <td>19.03</td>\n",
       "      <td>Census Tract 19.03</td>\n",
       "      <td>G5020</td>\n",
       "      <td>S</td>\n",
       "      <td>15964885</td>\n",
       "      <td>0</td>\n",
       "      <td>+30.1963602</td>\n",
       "      <td>-092.1170561</td>\n",
       "      <td>POLYGON ((-92.14198 30.20484, -92.14196 30.206...</td>\n",
       "    </tr>\n",
       "  </tbody>\n",
       "</table>\n",
       "</div>"
      ],
      "text/plain": [
       "  STATEFP COUNTYFP TRACTCE        GEOID   NAME            NAMELSAD  MTFCC  \\\n",
       "0      22      055  001407  22055001407  14.07  Census Tract 14.07  G5020   \n",
       "1      22      055  001500  22055001500     15     Census Tract 15  G5020   \n",
       "2      22      055  001700  22055001700     17     Census Tract 17  G5020   \n",
       "3      22      055  001902  22055001902  19.02  Census Tract 19.02  G5020   \n",
       "4      22      055  001903  22055001903  19.03  Census Tract 19.03  G5020   \n",
       "\n",
       "  FUNCSTAT     ALAND  AWATER     INTPTLAT      INTPTLON  \\\n",
       "0        S   6036812       0  +30.1760902  -092.0362245   \n",
       "1        S   5452816       0  +30.1985322  -092.0283251   \n",
       "2        S   5133690       0  +30.1792758  -092.0586651   \n",
       "3        S  17033549       0  +30.2231859  -092.1082895   \n",
       "4        S  15964885       0  +30.1963602  -092.1170561   \n",
       "\n",
       "                                            geometry  \n",
       "0  POLYGON ((-92.05387 30.16462, -92.05516 30.166...  \n",
       "1  POLYGON ((-92.05360 30.20157, -92.05345 30.201...  \n",
       "2  POLYGON ((-92.07449 30.17809, -92.07415 30.178...  \n",
       "3  POLYGON ((-92.14213 30.22526, -92.14212 30.225...  \n",
       "4  POLYGON ((-92.14198 30.20484, -92.14196 30.206...  "
      ]
     },
     "execution_count": 131,
     "metadata": {},
     "output_type": "execute_result"
    }
   ],
   "source": [
    "tracts = gpd.read_file(\"./data/tl_2017_22_tract/tl_2017_22_tract.shp\")\n",
    "tracts.head()"
   ]
  },
  {
   "cell_type": "code",
   "execution_count": 132,
   "metadata": {},
   "outputs": [],
   "source": [
    "# get census tracts for orleans parish\n",
    "optracts = tracts[tracts.COUNTYFP == \"071\"].copy()"
   ]
  },
  {
   "cell_type": "markdown",
   "metadata": {},
   "source": [
    "We create a new column called standard tract which will allow us to integrate the geographic data with the other data sets. The last 5 numbers in GEOID correspond to the census tract number, while the first 6 digits correspond to the state and county codes."
   ]
  },
  {
   "cell_type": "code",
   "execution_count": 133,
   "metadata": {},
   "outputs": [],
   "source": [
    "optracts[\"standard_tract\"] = optracts[\"GEOID\"].str[-5:].astype(np.int64)"
   ]
  },
  {
   "cell_type": "markdown",
   "metadata": {},
   "source": [
    "### Integrating Geographic Data\n",
    "\n",
    "Now we integrate the geographic data set with the internet proportions data set and population data to facilitate future geographic plots of these variables. To begin, we create a new data frame by multiplying the proportion of the tract with no internet by the population of the tract to obtain the expected number of people in the tract with no access to internet."
   ]
  },
  {
   "cell_type": "code",
   "execution_count": 148,
   "metadata": {},
   "outputs": [],
   "source": [
    "internet_pop = pd.DataFrame({\"No Internet\": internet_proportions[\"No Internet\"] * pop[\"Population\"]})\n",
    "internet_pop.dropna(inplace=True)"
   ]
  },
  {
   "cell_type": "code",
   "execution_count": 150,
   "metadata": {},
   "outputs": [
    {
     "data": {
      "text/html": [
       "<div>\n",
       "<style scoped>\n",
       "    .dataframe tbody tr th:only-of-type {\n",
       "        vertical-align: middle;\n",
       "    }\n",
       "\n",
       "    .dataframe tbody tr th {\n",
       "        vertical-align: top;\n",
       "    }\n",
       "\n",
       "    .dataframe thead th {\n",
       "        text-align: right;\n",
       "    }\n",
       "</style>\n",
       "<table border=\"1\" class=\"dataframe\">\n",
       "  <thead>\n",
       "    <tr style=\"text-align: right;\">\n",
       "      <th></th>\n",
       "      <th>No Internet</th>\n",
       "    </tr>\n",
       "  </thead>\n",
       "  <tbody>\n",
       "    <tr>\n",
       "      <th>100</th>\n",
       "      <td>408.435897</td>\n",
       "    </tr>\n",
       "    <tr>\n",
       "      <th>200</th>\n",
       "      <td>596.501027</td>\n",
       "    </tr>\n",
       "    <tr>\n",
       "      <th>300</th>\n",
       "      <td>736.800000</td>\n",
       "    </tr>\n",
       "    <tr>\n",
       "      <th>400</th>\n",
       "      <td>971.747073</td>\n",
       "    </tr>\n",
       "    <tr>\n",
       "      <th>601</th>\n",
       "      <td>823.658854</td>\n",
       "    </tr>\n",
       "  </tbody>\n",
       "</table>\n",
       "</div>"
      ],
      "text/plain": [
       "     No Internet\n",
       "100   408.435897\n",
       "200   596.501027\n",
       "300   736.800000\n",
       "400   971.747073\n",
       "601   823.658854"
      ]
     },
     "execution_count": 150,
     "metadata": {},
     "output_type": "execute_result"
    }
   ],
   "source": [
    "internet_pop.head()"
   ]
  },
  {
   "cell_type": "markdown",
   "metadata": {},
   "source": [
    "We can now merge this data frame with the geographic data on their census tract. We perform the default inner merge because we have dropped tracts previously that did not contain any internet data."
   ]
  },
  {
   "cell_type": "code",
   "execution_count": 153,
   "metadata": {},
   "outputs": [],
   "source": [
    "geo_internet = optracts.merge(internet_pop, left_on=\"standard_tract\", right_index=True)"
   ]
  },
  {
   "cell_type": "code",
   "execution_count": 154,
   "metadata": {},
   "outputs": [
    {
     "data": {
      "text/html": [
       "<div>\n",
       "<style scoped>\n",
       "    .dataframe tbody tr th:only-of-type {\n",
       "        vertical-align: middle;\n",
       "    }\n",
       "\n",
       "    .dataframe tbody tr th {\n",
       "        vertical-align: top;\n",
       "    }\n",
       "\n",
       "    .dataframe thead th {\n",
       "        text-align: right;\n",
       "    }\n",
       "</style>\n",
       "<table border=\"1\" class=\"dataframe\">\n",
       "  <thead>\n",
       "    <tr style=\"text-align: right;\">\n",
       "      <th></th>\n",
       "      <th>STATEFP</th>\n",
       "      <th>COUNTYFP</th>\n",
       "      <th>TRACTCE</th>\n",
       "      <th>GEOID</th>\n",
       "      <th>NAME</th>\n",
       "      <th>NAMELSAD</th>\n",
       "      <th>MTFCC</th>\n",
       "      <th>FUNCSTAT</th>\n",
       "      <th>ALAND</th>\n",
       "      <th>AWATER</th>\n",
       "      <th>INTPTLAT</th>\n",
       "      <th>INTPTLON</th>\n",
       "      <th>geometry</th>\n",
       "      <th>standard_tract</th>\n",
       "      <th>No Internet</th>\n",
       "    </tr>\n",
       "  </thead>\n",
       "  <tbody>\n",
       "    <tr>\n",
       "      <th>51</th>\n",
       "      <td>22</td>\n",
       "      <td>071</td>\n",
       "      <td>007606</td>\n",
       "      <td>22071007606</td>\n",
       "      <td>76.06</td>\n",
       "      <td>Census Tract 76.06</td>\n",
       "      <td>G5020</td>\n",
       "      <td>S</td>\n",
       "      <td>1809500</td>\n",
       "      <td>459446</td>\n",
       "      <td>+30.0150744</td>\n",
       "      <td>-090.1180146</td>\n",
       "      <td>POLYGON ((-90.12288 30.00092, -90.12272 30.002...</td>\n",
       "      <td>7606</td>\n",
       "      <td>315.289079</td>\n",
       "    </tr>\n",
       "    <tr>\n",
       "      <th>82</th>\n",
       "      <td>22</td>\n",
       "      <td>071</td>\n",
       "      <td>000617</td>\n",
       "      <td>22071000617</td>\n",
       "      <td>6.17</td>\n",
       "      <td>Census Tract 6.17</td>\n",
       "      <td>G5020</td>\n",
       "      <td>S</td>\n",
       "      <td>1226280</td>\n",
       "      <td>246068</td>\n",
       "      <td>+29.8974722</td>\n",
       "      <td>-089.9903933</td>\n",
       "      <td>POLYGON ((-90.00206 29.89781, -90.00196 29.897...</td>\n",
       "      <td>617</td>\n",
       "      <td>1315.289522</td>\n",
       "    </tr>\n",
       "    <tr>\n",
       "      <th>142</th>\n",
       "      <td>22</td>\n",
       "      <td>071</td>\n",
       "      <td>001748</td>\n",
       "      <td>22071001748</td>\n",
       "      <td>17.48</td>\n",
       "      <td>Census Tract 17.48</td>\n",
       "      <td>G5020</td>\n",
       "      <td>S</td>\n",
       "      <td>2020069</td>\n",
       "      <td>0</td>\n",
       "      <td>+30.0254262</td>\n",
       "      <td>-089.9553984</td>\n",
       "      <td>POLYGON ((-89.96895 30.02674, -89.96879 30.026...</td>\n",
       "      <td>1748</td>\n",
       "      <td>1370.077535</td>\n",
       "    </tr>\n",
       "    <tr>\n",
       "      <th>147</th>\n",
       "      <td>22</td>\n",
       "      <td>071</td>\n",
       "      <td>001747</td>\n",
       "      <td>22071001747</td>\n",
       "      <td>17.47</td>\n",
       "      <td>Census Tract 17.47</td>\n",
       "      <td>G5020</td>\n",
       "      <td>S</td>\n",
       "      <td>7166909</td>\n",
       "      <td>344000</td>\n",
       "      <td>+30.0414373</td>\n",
       "      <td>-089.9549478</td>\n",
       "      <td>POLYGON ((-89.97631 30.03712, -89.97611 30.037...</td>\n",
       "      <td>1747</td>\n",
       "      <td>739.943190</td>\n",
       "    </tr>\n",
       "    <tr>\n",
       "      <th>148</th>\n",
       "      <td>22</td>\n",
       "      <td>071</td>\n",
       "      <td>001750</td>\n",
       "      <td>22071001750</td>\n",
       "      <td>17.50</td>\n",
       "      <td>Census Tract 17.50</td>\n",
       "      <td>G5020</td>\n",
       "      <td>S</td>\n",
       "      <td>1437946</td>\n",
       "      <td>166339</td>\n",
       "      <td>+30.0384832</td>\n",
       "      <td>-089.9176831</td>\n",
       "      <td>POLYGON ((-89.93001 30.03690, -89.92982 30.036...</td>\n",
       "      <td>1750</td>\n",
       "      <td>1563.928571</td>\n",
       "    </tr>\n",
       "  </tbody>\n",
       "</table>\n",
       "</div>"
      ],
      "text/plain": [
       "    STATEFP COUNTYFP TRACTCE        GEOID   NAME            NAMELSAD  MTFCC  \\\n",
       "51       22      071  007606  22071007606  76.06  Census Tract 76.06  G5020   \n",
       "82       22      071  000617  22071000617   6.17   Census Tract 6.17  G5020   \n",
       "142      22      071  001748  22071001748  17.48  Census Tract 17.48  G5020   \n",
       "147      22      071  001747  22071001747  17.47  Census Tract 17.47  G5020   \n",
       "148      22      071  001750  22071001750  17.50  Census Tract 17.50  G5020   \n",
       "\n",
       "    FUNCSTAT    ALAND  AWATER     INTPTLAT      INTPTLON  \\\n",
       "51         S  1809500  459446  +30.0150744  -090.1180146   \n",
       "82         S  1226280  246068  +29.8974722  -089.9903933   \n",
       "142        S  2020069       0  +30.0254262  -089.9553984   \n",
       "147        S  7166909  344000  +30.0414373  -089.9549478   \n",
       "148        S  1437946  166339  +30.0384832  -089.9176831   \n",
       "\n",
       "                                              geometry  standard_tract  \\\n",
       "51   POLYGON ((-90.12288 30.00092, -90.12272 30.002...            7606   \n",
       "82   POLYGON ((-90.00206 29.89781, -90.00196 29.897...             617   \n",
       "142  POLYGON ((-89.96895 30.02674, -89.96879 30.026...            1748   \n",
       "147  POLYGON ((-89.97631 30.03712, -89.97611 30.037...            1747   \n",
       "148  POLYGON ((-89.93001 30.03690, -89.92982 30.036...            1750   \n",
       "\n",
       "     No Internet  \n",
       "51    315.289079  \n",
       "82   1315.289522  \n",
       "142  1370.077535  \n",
       "147   739.943190  \n",
       "148  1563.928571  "
      ]
     },
     "execution_count": 154,
     "metadata": {},
     "output_type": "execute_result"
    }
   ],
   "source": [
    "geo_internet.head()"
   ]
  },
  {
   "cell_type": "markdown",
   "metadata": {},
   "source": [
    "## Exploratory Analysis and Data Visualization"
   ]
  },
  {
   "cell_type": "markdown",
   "metadata": {},
   "source": [
    "### General Internet Distribution\n",
    "\n",
    "An initial plot that is interesting to consider is the distribution of internet access by census tract. This will give an idea of how evenly distributed internet is across geographic regions of Orleans Parish, and help us answer our first question."
   ]
  },
  {
   "cell_type": "code",
   "execution_count": 51,
   "metadata": {},
   "outputs": [
    {
     "data": {
      "image/png": "[encoded data removed]",
      "text/plain": [
       "<Figure size 432x288 with 1 Axes>"
      ]
     },
     "metadata": {
      "needs_background": "light"
     },
     "output_type": "display_data"
    }
   ],
   "source": [
    "plt.boxplot(internet_proportions[\"Has Internet\"])\n",
    "plt.ylabel(\"Proportion of Households with Internet Access\")\n",
    "# xticks are not necessary since there is only one distribution\n",
    "plt.xticks([])\n",
    "plt.show()"
   ]
  },
  {
   "cell_type": "code",
   "execution_count": 52,
   "metadata": {},
   "outputs": [
    {
     "data": {
      "text/plain": [
       "count    172.000000\n",
       "mean       0.686202\n",
       "std        0.187571\n",
       "min        0.084507\n",
       "25%        0.556418\n",
       "50%        0.703812\n",
       "75%        0.846738\n",
       "max        1.000000\n",
       "Name: Has Internet, dtype: float64"
      ]
     },
     "execution_count": 52,
     "metadata": {},
     "output_type": "execute_result"
    }
   ],
   "source": [
    "internet_proportions[\"Has Internet\"].describe()"
   ]
  },
  {
   "cell_type": "markdown",
   "metadata": {},
   "source": [
    "The resulting distribution is skewed left meaning that there are many census tracts with a high proportion of households with internet access, and a few census tracts with a low proportion of households with internet access. These census tracts with a low proportion of households with internet access will be of great interest since these are the areas that clearly require improved infrastructure or other support. However, we can see that overall access to internet is distributed relatively well since the distribution is not extremely skewed (the mean and the median are close in value)."
   ]
  },
  {
   "cell_type": "markdown",
   "metadata": {},
   "source": [
    "### Distribution of Public Internet Access\n",
    "\n",
    "Now, we want to consider the distribution of publicly accessible internet. To do so, we calculate the distance matrix for all points in this graph, and plot the distances on a heat map."
   ]
  },
  {
   "cell_type": "code",
   "execution_count": 252,
   "metadata": {},
   "outputs": [],
   "source": [
    "distances = pairwise_distances(free[[\"lon\", \"lat\"]], metric=\"euclidean\")"
   ]
  },
  {
   "cell_type": "code",
   "execution_count": 253,
   "metadata": {},
   "outputs": [
    {
     "data": {
      "image/png": "[encoded data removed]",
      "text/plain": [
       "<Figure size 432x288 with 2 Axes>"
      ]
     },
     "metadata": {
      "needs_background": "light"
     },
     "output_type": "display_data"
    }
   ],
   "source": [
    "plt.imshow(distances, cmap=\"YlOrRd\", origin=\"lower\")\n",
    "plt.colorbar()\n",
    "# ticks are not necessary\n",
    "plt.xticks([])\n",
    "plt.yticks([])\n",
    "plt.show()"
   ]
  },
  {
   "cell_type": "markdown",
   "metadata": {},
   "source": [
    "In this heat map, each square represents a comparison of one location with publicly accessible internet to another, and the darker the color, the more distant the locations are. Based on this plot, it seems like there are two locations with free internet access far from most others, and the rest of the free internet locations are relatively close to each other."
   ]
  },
  {
   "cell_type": "markdown",
   "metadata": {},
   "source": [
    "### Correlations Between Demographic Information and Internet Access\n",
    "\n",
    "Another important step in our analysis is to understand the correlations between all of the variables in consideration. To do so, we will merge all data sets and consider the variables for which we believe there might be a strong correlation."
   ]
  },
  {
   "cell_type": "code",
   "execution_count": 53,
   "metadata": {},
   "outputs": [],
   "source": [
    "# inner merge is necessary because there are not observations for the same tracts in each data frame\n",
    "temp = internet_proportions.merge(race_proportions, how=\"inner\", on=\"Census Tract\")\n",
    "temp = temp.merge(education_proportions, how=\"inner\", on=\"Census Tract\")\n",
    "df_all = temp.merge(income, how=\"inner\", on=\"Census Tract\")"
   ]
  },
  {
   "cell_type": "markdown",
   "metadata": {},
   "source": [
    "We can consider summarize most of the data simply considering the proportion of each tract with no internet, the proportion of the tract population that is white, the proportion with no high school education, and the median household income in each tract. Considering these variables also allows us to understand the correlations between other variables such as the proportion that does have internet, the proportion that is non-white, and the proportion with at least a high school diploma because these are all complements of the variables under explicit investigation."
   ]
  },
  {
   "cell_type": "code",
   "execution_count": 54,
   "metadata": {},
   "outputs": [
    {
     "data": {
      "text/html": [
       "<div>\n",
       "<style scoped>\n",
       "    .dataframe tbody tr th:only-of-type {\n",
       "        vertical-align: middle;\n",
       "    }\n",
       "\n",
       "    .dataframe tbody tr th {\n",
       "        vertical-align: top;\n",
       "    }\n",
       "\n",
       "    .dataframe thead th {\n",
       "        text-align: right;\n",
       "    }\n",
       "</style>\n",
       "<table border=\"1\" class=\"dataframe\">\n",
       "  <thead>\n",
       "    <tr style=\"text-align: right;\">\n",
       "      <th></th>\n",
       "      <th>No Internet</th>\n",
       "      <th>Has Internet</th>\n",
       "      <th>White</th>\n",
       "      <th>Non-White</th>\n",
       "      <th>No High School</th>\n",
       "      <th>High School or Above</th>\n",
       "      <th>Median Household Income</th>\n",
       "    </tr>\n",
       "  </thead>\n",
       "  <tbody>\n",
       "    <tr>\n",
       "      <th>No Internet</th>\n",
       "      <td>1.000000</td>\n",
       "      <td>-1.000000</td>\n",
       "      <td>-0.761323</td>\n",
       "      <td>0.761323</td>\n",
       "      <td>0.857278</td>\n",
       "      <td>-0.857278</td>\n",
       "      <td>-0.792468</td>\n",
       "    </tr>\n",
       "    <tr>\n",
       "      <th>Has Internet</th>\n",
       "      <td>-1.000000</td>\n",
       "      <td>1.000000</td>\n",
       "      <td>0.761323</td>\n",
       "      <td>-0.761323</td>\n",
       "      <td>-0.857278</td>\n",
       "      <td>0.857278</td>\n",
       "      <td>0.792468</td>\n",
       "    </tr>\n",
       "    <tr>\n",
       "      <th>White</th>\n",
       "      <td>-0.761323</td>\n",
       "      <td>0.761323</td>\n",
       "      <td>1.000000</td>\n",
       "      <td>-1.000000</td>\n",
       "      <td>-0.679351</td>\n",
       "      <td>0.679351</td>\n",
       "      <td>0.732181</td>\n",
       "    </tr>\n",
       "    <tr>\n",
       "      <th>Non-White</th>\n",
       "      <td>0.761323</td>\n",
       "      <td>-0.761323</td>\n",
       "      <td>-1.000000</td>\n",
       "      <td>1.000000</td>\n",
       "      <td>0.679351</td>\n",
       "      <td>-0.679351</td>\n",
       "      <td>-0.732181</td>\n",
       "    </tr>\n",
       "    <tr>\n",
       "      <th>No High School</th>\n",
       "      <td>0.857278</td>\n",
       "      <td>-0.857278</td>\n",
       "      <td>-0.679351</td>\n",
       "      <td>0.679351</td>\n",
       "      <td>1.000000</td>\n",
       "      <td>-1.000000</td>\n",
       "      <td>-0.664614</td>\n",
       "    </tr>\n",
       "    <tr>\n",
       "      <th>High School or Above</th>\n",
       "      <td>-0.857278</td>\n",
       "      <td>0.857278</td>\n",
       "      <td>0.679351</td>\n",
       "      <td>-0.679351</td>\n",
       "      <td>-1.000000</td>\n",
       "      <td>1.000000</td>\n",
       "      <td>0.664614</td>\n",
       "    </tr>\n",
       "    <tr>\n",
       "      <th>Median Household Income</th>\n",
       "      <td>-0.792468</td>\n",
       "      <td>0.792468</td>\n",
       "      <td>0.732181</td>\n",
       "      <td>-0.732181</td>\n",
       "      <td>-0.664614</td>\n",
       "      <td>0.664614</td>\n",
       "      <td>1.000000</td>\n",
       "    </tr>\n",
       "  </tbody>\n",
       "</table>\n",
       "</div>"
      ],
      "text/plain": [
       "                         No Internet  Has Internet     White  Non-White  \\\n",
       "No Internet                 1.000000     -1.000000 -0.761323   0.761323   \n",
       "Has Internet               -1.000000      1.000000  0.761323  -0.761323   \n",
       "White                      -0.761323      0.761323  1.000000  -1.000000   \n",
       "Non-White                   0.761323     -0.761323 -1.000000   1.000000   \n",
       "No High School              0.857278     -0.857278 -0.679351   0.679351   \n",
       "High School or Above       -0.857278      0.857278  0.679351  -0.679351   \n",
       "Median Household Income    -0.792468      0.792468  0.732181  -0.732181   \n",
       "\n",
       "                         No High School  High School or Above  \\\n",
       "No Internet                    0.857278             -0.857278   \n",
       "Has Internet                  -0.857278              0.857278   \n",
       "White                         -0.679351              0.679351   \n",
       "Non-White                      0.679351             -0.679351   \n",
       "No High School                 1.000000             -1.000000   \n",
       "High School or Above          -1.000000              1.000000   \n",
       "Median Household Income       -0.664614              0.664614   \n",
       "\n",
       "                         Median Household Income  \n",
       "No Internet                            -0.792468  \n",
       "Has Internet                            0.792468  \n",
       "White                                   0.732181  \n",
       "Non-White                              -0.732181  \n",
       "No High School                         -0.664614  \n",
       "High School or Above                    0.664614  \n",
       "Median Household Income                 1.000000  "
      ]
     },
     "execution_count": 54,
     "metadata": {},
     "output_type": "execute_result"
    }
   ],
   "source": [
    "df_all.corr()"
   ]
  },
  {
   "cell_type": "markdown",
   "metadata": {},
   "source": [
    "This table contains a lot of very valuable information to our investigation. This correlation table indicates strong correlation between the proportion of a census tract with no internet and\n",
    "- the proportion of the tract that is non-white ($r \\approx 0.761$)\n",
    "- the proportion of the tract that has no high school edution ($r \\approx 0.857$)\n",
    "- the median household income ($r \\approx -0.792$)\n",
    "\n",
    "We perform p tests to obtain the probability that we would obtain such a strong correlation given no correlation between the variables."
   ]
  },
  {
   "cell_type": "code",
   "execution_count": 249,
   "metadata": {},
   "outputs": [
    {
     "data": {
      "text/plain": [
       "1.3422181808874468e-50"
      ]
     },
     "execution_count": 249,
     "metadata": {},
     "output_type": "execute_result"
    }
   ],
   "source": [
    "linregress(df_all[\"No High School\"], df_all[\"No Internet\"]).pvalue"
   ]
  },
  {
   "cell_type": "code",
   "execution_count": 250,
   "metadata": {},
   "outputs": [
    {
     "data": {
      "text/plain": [
       "1.2657108325988323e-33"
      ]
     },
     "execution_count": 250,
     "metadata": {},
     "output_type": "execute_result"
    }
   ],
   "source": [
    "linregress(df_all[\"Non-White\"], df_all[\"No Internet\"]).pvalue"
   ]
  },
  {
   "cell_type": "code",
   "execution_count": 251,
   "metadata": {},
   "outputs": [
    {
     "data": {
      "text/plain": [
       "3.9555090950779646e-38"
      ]
     },
     "execution_count": 251,
     "metadata": {},
     "output_type": "execute_result"
    }
   ],
   "source": [
    "linregress(df_all[\"Median Household Income\"], df_all[\"No Internet\"]).pvalue"
   ]
  },
  {
   "cell_type": "markdown",
   "metadata": {},
   "source": [
    "These values are all incredibly low and clearly sufficient for us to reject the null hypothesis that there is no correlation between these variables. The extremely high correlation between education level and access to internet in individual's homes is evidence for the statement that a lack of internet access leads to overall worse academic performance, a statement which is further proven by this [study performed by researchers at OSU](https://extension.okstate.edu/fact-sheets/do-home-computers-internet-access-affect-student-performance.html)."
   ]
  },
  {
   "cell_type": "markdown",
   "metadata": {},
   "source": [
    "It will be useful to visualize some of these relationships on a scatter plot:"
   ]
  },
  {
   "cell_type": "code",
   "execution_count": 55,
   "metadata": {},
   "outputs": [
    {
     "data": {
      "image/png": "[encoded data removed]",
      "text/plain": [
       "<Figure size 432x288 with 1 Axes>"
      ]
     },
     "metadata": {
      "needs_background": "light"
     },
     "output_type": "display_data"
    }
   ],
   "source": [
    "plt.scatter(df_all[\"No High School\"], df_all[\"No Internet\"])\n",
    "plt.xlabel(\"Proportion of Census Tract without a High School Degree\")\n",
    "plt.ylabel(\"Proportion of Census Tract with No Internet Access\")\n",
    "plt.xlim((0, 1))\n",
    "plt.ylim((0, 1))\n",
    "plt.show()"
   ]
  },
  {
   "cell_type": "code",
   "execution_count": 56,
   "metadata": {},
   "outputs": [
    {
     "data": {
      "image/png": "[encoded data removed]",
      "text/plain": [
       "<Figure size 432x288 with 1 Axes>"
      ]
     },
     "metadata": {
      "needs_background": "light"
     },
     "output_type": "display_data"
    }
   ],
   "source": [
    "plt.scatter(df_all[\"Non-White\"], df_all[\"No Internet\"])\n",
    "plt.xlabel(\"Proportion of Census Tract that is Non-White\")\n",
    "plt.ylabel(\"Proportion of Census Tract with No Internet Access\")\n",
    "plt.xlim((0, 1))\n",
    "plt.ylim((0, 1))\n",
    "plt.show()"
   ]
  },
  {
   "cell_type": "markdown",
   "metadata": {},
   "source": [
    "In these plots, each point represents a census tract in Orleans Parish where the y-value is the proportion of the census tract with no internet access. The x-value in the first plot is the proportion of the census tract with no high school degree, and in the second plot the x-value is the proportion of the census tract that is non-white. Both plots allow us to visualize the strong correlations summarized by the correlation matrix."
   ]
  },
  {
   "cell_type": "markdown",
   "metadata": {},
   "source": [
    "## Final Results and Conclusion"
   ]
  },
  {
   "cell_type": "markdown",
   "metadata": {},
   "source": [
    "With our final visualization, we would like to answer our two main questions regarding the distribution of internet in individual's homes in New Orleans, and the distribution of public internet access points. We plot each census tract and color it according to the expected number of people without access to internet in that tract, and we also plot the points with free public internet on top of this plot."
   ]
  },
  {
   "cell_type": "code",
   "execution_count": 248,
   "metadata": {},
   "outputs": [
    {
     "data": {
      "text/plain": [
       "<matplotlib.patches.Ellipse at 0x7f8b6daebee0>"
      ]
     },
     "execution_count": 248,
     "metadata": {},
     "output_type": "execute_result"
    },
    {
     "data": {
      "image/png": "[encoded data removed]",
      "text/plain": [
       "<Figure size 1080x576 with 2 Axes>"
      ]
     },
     "metadata": {
      "needs_background": "light"
     },
     "output_type": "display_data"
    }
   ],
   "source": [
    "fig, ax = plt.subplots(1, 1, figsize=(15,8), tight_layout=True)\n",
    "ax.set_title(\"Availability of Internet by Tract\")\n",
    "# remove ticks and labels for appearances\n",
    "ax.set_xticks([])\n",
    "ax.set_yticks([])\n",
    "ax.set_xticklabels([])\n",
    "ax.set_yticklabels([])\n",
    "geo_internet.plot(\"No Internet\", ax=ax)\n",
    "geo_free.plot(ax=ax, color=\"red\", label=\"Free Internet Access Points\")\n",
    "\n",
    "# create the colorbar\n",
    "norm = colors.Normalize(vmin=geo_internet[\"No Internet\"].min(), vmax=geo_internet[\"No Internet\"].max())\n",
    "cbar = plt.cm.ScalarMappable(norm=norm, cmap='viridis')\n",
    "# add colorbar\n",
    "ax_cbar = fig.colorbar(cbar, ax=ax)\n",
    "ax_cbar.set_label(\"Expected Number of People without Access to Internet\")\n",
    "ax.legend()\n",
    "\n",
    "e1 = patches.Ellipse((-89.99, 30.025), .1, .07, angle=10, fill=False, color=\"orange\", linewidth=3)\n",
    "ax.add_patch(e1)\n",
    "e2 = patches.Ellipse((-90.01, 29.92), .09, .07, angle=-20, fill=False, color=\"orange\", linewidth=3)\n",
    "ax.add_patch(e2)"
   ]
  },
  {
   "cell_type": "markdown",
   "metadata": {},
   "source": [
    "There is a lot to describe about this graph, but overall, it seems like internet is distributed reasonably equally in people's homes which is determined by only looking at the coloring of the census tract. There are many tracts colored in dark purple and in the intermediate green range. There are only a few tracts with a high expected number of people without access to internet. This is precisely what we expected based on the slightly left skewed distribution found in the previous section.\n",
    "\n",
    "As for our second question, the plot seems to indicate that there is a lack of free public internet access points in the areas that require them the most. The two regions that enclosed in ellipses contain census tracts with the highest expected number of people without internet access, yet they have very few locations at which the public can access free internet. It is our recommendation that, were the city to spend more money on providing public internet access, more infrastructure be contructed in these areas to provide internet access to the people who need it the most."
   ]
  },
  {
   "cell_type": "markdown",
   "metadata": {},
   "source": [
    "### Reliability of Our Results\n",
    "\n",
    "Now, we would like to give an idea of how accurate our conclusion is expected to be. The data sets from NHGIS report a margin of error. The first thing we would like to see is how reliable the survey that determined internet access is. We take the margins of error in the number of households without access to internet by tract, and plot this along with the measured value for the number of households. This will give us a qualitative indicator of whether our margins of error are low enough to accept the previous results."
   ]
  },
  {
   "cell_type": "code",
   "execution_count": 245,
   "metadata": {},
   "outputs": [],
   "source": [
    "moe = internet[[\"TRACTA\", \"AIQBE013\", \"AIQBM013\"]].copy()"
   ]
  },
  {
   "cell_type": "code",
   "execution_count": 246,
   "metadata": {},
   "outputs": [],
   "source": [
    "moe = moe.rename(columns={\"AIQBE013\":\"No Internet\", \"AIQBM013\":\"MOE\"}).set_index(\"TRACTA\").sort_values(\n",
    "    by=\"No Internet\")"
   ]
  },
  {
   "cell_type": "code",
   "execution_count": 247,
   "metadata": {},
   "outputs": [
    {
     "data": {
      "image/png": "[encoded data removed]",
      "text/plain": [
       "<Figure size 1152x576 with 1 Axes>"
      ]
     },
     "metadata": {
      "needs_background": "light"
     },
     "output_type": "display_data"
    }
   ],
   "source": [
    "plt.figure(figsize=(16, 8))\n",
    "# plot each tract an equal distance apart on the x-axis and the # of households with no internet on the x-axis\n",
    "# along with the margin of error\n",
    "plt.errorbar(list(range(len(moe))), moe[\"No Internet\"], yerr=moe[\"MOE\"], fmt=\"o\")\n",
    "plt.xticks([])\n",
    "plt.ylabel(\"Number of Households with No Internet Access\")\n",
    "plt.show()"
   ]
  },
  {
   "cell_type": "markdown",
   "metadata": {},
   "source": [
    "This plot effectively demonstrates that the margins of error in the number of households with no access to internet is not too large to reject the conclusions based on our previous plot. We belive that though our recommendation could change slightly, it would not change significantly as long as true population value is within the margin of error."
   ]
  },
  {
   "cell_type": "markdown",
   "metadata": {},
   "source": [
    "### Conclusion"
   ]
  },
  {
   "cell_type": "code",
   "execution_count": null,
   "metadata": {},
   "outputs": [],
   "source": []
  }
 ],
 "metadata": {
  "kernelspec": {
   "display_name": "Python 3 (ipykernel)",
   "language": "python",
   "name": "python3"
  },
  "language_info": {
   "codemirror_mode": {
    "name": "ipython",
    "version": 3
   },
   "file_extension": ".py",
   "mimetype": "text/x-python",
   "name": "python",
   "nbconvert_exporter": "python",
   "pygments_lexer": "ipython3",
   "version": "3.8.11"
  }
 },
 "nbformat": 4,
 "nbformat_minor": 1
}
